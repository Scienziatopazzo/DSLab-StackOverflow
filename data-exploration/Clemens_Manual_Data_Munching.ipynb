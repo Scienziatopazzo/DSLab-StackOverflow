{
 "cells": [
  {
   "cell_type": "code",
   "execution_count": 10,
   "metadata": {},
   "outputs": [],
   "source": [
    "import pandas as pd\n",
    "import numpy as np"
   ]
  },
  {
   "cell_type": "code",
   "execution_count": 11,
   "metadata": {},
   "outputs": [],
   "source": [
    "ttm_elvis = pd.read_pickle(\"../cache/data_from_elvis/raw_question_features.pickle\")\n",
    "lda_features = pd.read_pickle(\"../cache/backup/raw_question_features.pickle\")\n",
    "ttm_features_clemens = pd.read_pickle(\"../cache/ttm_raw_question_features.pickle\")"
   ]
  },
  {
   "cell_type": "code",
   "execution_count": 17,
   "metadata": {},
   "outputs": [],
   "source": [
    "feature_cols = [\"question_tags\", \"question_id\", \"titleLength\", \"questionLength\", \"nCodeBlocks\", \"nEquationBlocks\", \"nExternalLinks\", \"nTags\", \"readability\"]"
   ]
  },
  {
   "cell_type": "code",
   "execution_count": 18,
   "metadata": {},
   "outputs": [],
   "source": [
    "assert(np.all(lda_features[feature_cols] == ttm_features_clemens[feature_cols]))"
   ]
  },
  {
   "cell_type": "code",
   "execution_count": 16,
   "metadata": {},
   "outputs": [],
   "source": [
    "def best_topic(df):\n",
    "    return np.argmax(df[[\"topic_{}\".format(i) for i in range(10)]].values, axis=1)\n",
    "    \n",
    "ttm_elvis[\"prevalent_topic\"] = best_topic(ttm_elvis)"
   ]
  },
  {
   "cell_type": "code",
   "execution_count": 23,
   "metadata": {},
   "outputs": [],
   "source": [
    "final = pd.merge(ttm_elvis, lda_features[feature_cols], how=\"right\", on=\"question_id\")"
   ]
  },
  {
   "cell_type": "code",
   "execution_count": 33,
   "metadata": {},
   "outputs": [],
   "source": [
    "assert(np.all(final.topic_0.notnull()))\n",
    "assert(len(final)==len(lda_features))"
   ]
  },
  {
   "cell_type": "code",
   "execution_count": 35,
   "metadata": {},
   "outputs": [],
   "source": [
    "final.to_pickle(\"../cache/ttm_elvis_question_features.pickle\")"
   ]
  },
  {
   "cell_type": "code",
   "execution_count": 32,
   "metadata": {},
   "outputs": [
    {
     "data": {
      "text/plain": [
       "82510"
      ]
     },
     "execution_count": 32,
     "metadata": {},
     "output_type": "execute_result"
    }
   ],
   "source": []
  },
  {
   "cell_type": "code",
   "execution_count": null,
   "metadata": {},
   "outputs": [],
   "source": []
  }
 ],
 "metadata": {
  "kernelspec": {
   "display_name": "Python 3",
   "language": "python",
   "name": "python3"
  },
  "language_info": {
   "codemirror_mode": {
    "name": "ipython",
    "version": 3
   },
   "file_extension": ".py",
   "mimetype": "text/x-python",
   "name": "python",
   "nbconvert_exporter": "python",
   "pygments_lexer": "ipython3",
   "version": "3.7.0"
  }
 },
 "nbformat": 4,
 "nbformat_minor": 4
}
