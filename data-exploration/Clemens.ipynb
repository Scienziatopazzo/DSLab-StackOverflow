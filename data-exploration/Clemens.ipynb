{
 "cells": [
  {
   "cell_type": "code",
   "execution_count": 28,
   "metadata": {},
   "outputs": [],
   "source": [
    "import numpy as np\n",
    "import pandas as pd\n",
    "import psycopg2\n",
    "import sqlalchemy\n",
    "from sqlalchemy_utils import analyze\n",
    "import matplotlib.pyplot as plt\n",
    "import seaborn as sb\n",
    "sns.set()\n",
    "from scipy.stats import expon\n",
    "%matplotlib inline\n",
    "\n",
    "import sys\n",
    "sys.path.append(\"/Users/clemens/Documents/courses/DS-Lab/Baselines/\")\n",
    "import data\n",
    "from datetime import timedelta\n",
    "import data_utils"
   ]
  },
  {
   "cell_type": "code",
   "execution_count": 13,
   "metadata": {},
   "outputs": [],
   "source": [
    "data_handle = data.Data()"
   ]
  },
  {
   "cell_type": "code",
   "execution_count": 20,
   "metadata": {},
   "outputs": [
    {
     "data": {
      "text/html": [
       "<div>\n",
       "<style scoped>\n",
       "    .dataframe tbody tr th:only-of-type {\n",
       "        vertical-align: middle;\n",
       "    }\n",
       "\n",
       "    .dataframe tbody tr th {\n",
       "        vertical-align: top;\n",
       "    }\n",
       "\n",
       "    .dataframe thead th {\n",
       "        text-align: right;\n",
       "    }\n",
       "</style>\n",
       "<table border=\"1\" class=\"dataframe\">\n",
       "  <thead>\n",
       "    <tr style=\"text-align: right;\">\n",
       "      <th></th>\n",
       "      <th>id</th>\n",
       "      <th>creationdate</th>\n",
       "      <th>timetoans</th>\n",
       "    </tr>\n",
       "  </thead>\n",
       "  <tbody>\n",
       "    <tr>\n",
       "      <td>0</td>\n",
       "      <td>202856</td>\n",
       "      <td>2016-03-21 19:02:50.037</td>\n",
       "      <td>0 days 03:28:00.910000</td>\n",
       "    </tr>\n",
       "    <tr>\n",
       "      <td>1</td>\n",
       "      <td>33260</td>\n",
       "      <td>2012-07-28 14:59:45.733</td>\n",
       "      <td>0 days 01:52:39.647000</td>\n",
       "    </tr>\n",
       "    <tr>\n",
       "      <td>2</td>\n",
       "      <td>349477</td>\n",
       "      <td>2018-06-02 12:24:55.143</td>\n",
       "      <td>0 days 03:55:01.140000</td>\n",
       "    </tr>\n",
       "    <tr>\n",
       "      <td>4</td>\n",
       "      <td>311693</td>\n",
       "      <td>2017-11-03 13:14:07.800</td>\n",
       "      <td>16 days 03:11:55.960000</td>\n",
       "    </tr>\n",
       "    <tr>\n",
       "      <td>6</td>\n",
       "      <td>371665</td>\n",
       "      <td>2018-10-13 10:36:56.347</td>\n",
       "      <td>0 days 00:22:02.093000</td>\n",
       "    </tr>\n",
       "    <tr>\n",
       "      <td>...</td>\n",
       "      <td>...</td>\n",
       "      <td>...</td>\n",
       "      <td>...</td>\n",
       "    </tr>\n",
       "    <tr>\n",
       "      <td>143867</td>\n",
       "      <td>203512</td>\n",
       "      <td>2016-03-24 17:32:19.583</td>\n",
       "      <td>0 days 00:28:18.494000</td>\n",
       "    </tr>\n",
       "    <tr>\n",
       "      <td>143869</td>\n",
       "      <td>124337</td>\n",
       "      <td>2014-11-17 07:52:29.707</td>\n",
       "      <td>0 days 00:09:00.890000</td>\n",
       "    </tr>\n",
       "    <tr>\n",
       "      <td>143870</td>\n",
       "      <td>186360</td>\n",
       "      <td>2015-12-12 04:57:33.473</td>\n",
       "      <td>2 days 18:32:37.694000</td>\n",
       "    </tr>\n",
       "    <tr>\n",
       "      <td>143871</td>\n",
       "      <td>920</td>\n",
       "      <td>2010-07-28 17:15:09.090</td>\n",
       "      <td>0 days 03:35:16.030000</td>\n",
       "    </tr>\n",
       "    <tr>\n",
       "      <td>143872</td>\n",
       "      <td>134352</td>\n",
       "      <td>2015-01-21 14:48:03.110</td>\n",
       "      <td>0 days 00:10:15.960000</td>\n",
       "    </tr>\n",
       "  </tbody>\n",
       "</table>\n",
       "<p>97972 rows × 3 columns</p>\n",
       "</div>"
      ],
      "text/plain": [
       "            id            creationdate               timetoans\n",
       "0       202856 2016-03-21 19:02:50.037  0 days 03:28:00.910000\n",
       "1        33260 2012-07-28 14:59:45.733  0 days 01:52:39.647000\n",
       "2       349477 2018-06-02 12:24:55.143  0 days 03:55:01.140000\n",
       "4       311693 2017-11-03 13:14:07.800 16 days 03:11:55.960000\n",
       "6       371665 2018-10-13 10:36:56.347  0 days 00:22:02.093000\n",
       "...        ...                     ...                     ...\n",
       "143867  203512 2016-03-24 17:32:19.583  0 days 00:28:18.494000\n",
       "143869  124337 2014-11-17 07:52:29.707  0 days 00:09:00.890000\n",
       "143870  186360 2015-12-12 04:57:33.473  2 days 18:32:37.694000\n",
       "143871     920 2010-07-28 17:15:09.090  0 days 03:35:16.030000\n",
       "143872  134352 2015-01-21 14:48:03.110  0 days 00:10:15.960000\n",
       "\n",
       "[97972 rows x 3 columns]"
      ]
     },
     "execution_count": 20,
     "metadata": {},
     "output_type": "execute_result"
    }
   ],
   "source": [
    "time_to_ans = data_handle.query(\"\"\"SELECT Q.Id, Q.CreationDate, MIN(Ans.CreationDate - Q.CreationDate) AS TimeToAns\n",
    "        FROM Posts AS Q LEFT JOIN Posts AS Ans ON Q.Id=Ans.ParentId\n",
    "        WHERE Q.PostTypeId=1\n",
    "        GROUP BY Q.Id, Q.CreationDate;\"\"\")\n",
    "time_to_ans = time_to_ans[time_to_ans.timetoans.notnull()]\n",
    "time_to_ans"
   ]
  },
  {
   "cell_type": "code",
   "execution_count": 27,
   "metadata": {},
   "outputs": [
    {
     "data": {
      "text/plain": [
       "(array([31006., 12387.,  6774.,  4345.,  3157.,  2253.,  1749.,  1395.,\n",
       "         1215.,  1069.,   984.,   885.,   736.,   698.,   652.,   621.,\n",
       "          610.,   583.,   527.,   508.,   505.,   469.,   462.]),\n",
       " array([ 0.        ,  1.04347826,  2.08695652,  3.13043478,  4.17391304,\n",
       "         5.2173913 ,  6.26086957,  7.30434783,  8.34782609,  9.39130435,\n",
       "        10.43478261, 11.47826087, 12.52173913, 13.56521739, 14.60869565,\n",
       "        15.65217391, 16.69565217, 17.73913043, 18.7826087 , 19.82608696,\n",
       "        20.86956522, 21.91304348, 22.95652174, 24.        ]),\n",
       " <a list of 23 Patch objects>)"
      ]
     },
     "execution_count": 27,
     "metadata": {},
     "output_type": "execute_result"
    },
    {
     "data": {
      "image/png": "[encoded data removed]",
      "text/plain": [
       "<Figure size 432x288 with 1 Axes>"
      ]
     },
     "metadata": {
      "needs_background": "light"
     },
     "output_type": "display_data"
    }
   ],
   "source": [
    "plt.hist(time_to_ans.timetoans/timedelta(hours=1), bins=np.linspace(0, 24, 24) )wha"
   ]
  },
  {
   "cell_type": "code",
   "execution_count": 30,
   "metadata": {},
   "outputs": [],
   "source": [
    "x = data_utils.user_answers_suggested_iterator(data_handle, 5)"
   ]
  },
  {
   "cell_type": "code",
   "execution_count": 33,
   "metadata": {},
   "outputs": [
    {
     "data": {
      "text/plain": [
       "id                                                                  152115\n",
       "posttypeid                                                               2\n",
       "acceptedanswerid                                                      None\n",
       "parentid                                                            152105\n",
       "creationdate                                    2015-05-13 12:22:39.797000\n",
       "score                                                                    1\n",
       "viewcount                                                             None\n",
       "body                     <p>I forgot that the command</p>\\n\\n<pre><code...\n",
       "owneruserid                                                          24765\n",
       "lasteditoruserid                                                     24765\n",
       "lasteditordisplayname                                                 None\n",
       "lasteditdate                                    2015-05-13 12:41:35.160000\n",
       "lastactivitydate                                2015-05-13 12:41:35.160000\n",
       "title                                                                 None\n",
       "tags                                                                  None\n",
       "answercount                                                           None\n",
       "commentcount                                                             0\n",
       "favoritecount                                                         None\n",
       "closeddate                                                            None\n",
       "communityowneddate                                                     NaT\n",
       "jsonfield                                                             None\n",
       "id                                                                  152105\n",
       "posttypeid                                                               1\n",
       "acceptedanswerid                                                    152115\n",
       "parentid                                                              None\n",
       "creationdate                                    2015-05-13 11:16:43.093000\n",
       "score                                                                    0\n",
       "viewcount                                                              112\n",
       "body                     <p>I have got 2 models. The first model uses a...\n",
       "owneruserid                                                          24765\n",
       "lasteditoruserid                                                     24765\n",
       "lasteditordisplayname                                                 None\n",
       "lasteditdate                                    2015-05-13 13:02:21.660000\n",
       "lastactivitydate                                2015-05-13 13:02:21.660000\n",
       "title                    Difference in multiple regression with x=facto...\n",
       "tags                                              <r><multiple-regression>\n",
       "answercount                                                              1\n",
       "commentcount                                                             4\n",
       "favoritecount                                                          NaN\n",
       "closeddate                                                             NaT\n",
       "communityowneddate                                                     NaT\n",
       "jsonfield                                                             None\n",
       "Name: 0, dtype: object"
      ]
     },
     "execution_count": 33,
     "metadata": {},
     "output_type": "execute_result"
    }
   ],
   "source": [
    "x.iloc[0]"
   ]
  },
  {
   "cell_type": "code",
   "execution_count": null,
   "metadata": {},
   "outputs": [],
   "source": []
  }
 ],
 "metadata": {
  "kernelspec": {
   "display_name": "Python 3",
   "language": "python",
   "name": "python3"
  },
  "language_info": {
   "codemirror_mode": {
    "name": "ipython",
    "version": 3
   },
   "file_extension": ".py",
   "mimetype": "text/x-python",
   "name": "python",
   "nbconvert_exporter": "python",
   "pygments_lexer": "ipython3",
   "version": "3.7.0"
  }
 },
 "nbformat": 4,
 "nbformat_minor": 4
}
