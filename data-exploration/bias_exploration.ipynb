{
 "cells": [
  {
   "cell_type": "code",
   "execution_count": 1,
   "metadata": {},
   "outputs": [],
   "source": [
    "import numpy as np\n",
    "import matplotlib.pyplot as plt\n",
    "import pandas as pd\n",
    "from scipy.stats import pearsonr, rankdata\n",
    "import matplotlib\n",
    "import os"
   ]
  },
  {
   "cell_type": "code",
   "execution_count": 2,
   "metadata": {},
   "outputs": [
    {
     "data": {
      "text/html": [
       "<div>\n",
       "<style scoped>\n",
       "    .dataframe tbody tr th:only-of-type {\n",
       "        vertical-align: middle;\n",
       "    }\n",
       "\n",
       "    .dataframe tbody tr th {\n",
       "        vertical-align: top;\n",
       "    }\n",
       "\n",
       "    .dataframe thead th {\n",
       "        text-align: right;\n",
       "    }\n",
       "</style>\n",
       "<table border=\"1\" class=\"dataframe\">\n",
       "  <thead>\n",
       "    <tr style=\"text-align: right;\">\n",
       "      <th></th>\n",
       "      <th>id</th>\n",
       "      <th>questionage</th>\n",
       "      <th>label</th>\n",
       "      <th>decision_time</th>\n",
       "      <th>topic_reputation_user</th>\n",
       "      <th>topic_reputation_asker</th>\n",
       "      <th>num_words</th>\n",
       "      <th>num_hyperlinks</th>\n",
       "      <th>GunningFogIndex</th>\n",
       "      <th>LIX</th>\n",
       "      <th>...</th>\n",
       "      <th>number_posts_asker</th>\n",
       "      <th>num_questions_asker</th>\n",
       "      <th>number_answers_asker</th>\n",
       "      <th>accepted_answers_asker</th>\n",
       "      <th>question_reputation_asker</th>\n",
       "      <th>answer_reputation_asker</th>\n",
       "      <th>num_solved_questions_asker</th>\n",
       "      <th>reputation_asker</th>\n",
       "      <th>topic_affinity_user</th>\n",
       "      <th>rank</th>\n",
       "    </tr>\n",
       "  </thead>\n",
       "  <tbody>\n",
       "    <tr>\n",
       "      <th>0</th>\n",
       "      <td>144354</td>\n",
       "      <td>0.348912</td>\n",
       "      <td>1</td>\n",
       "      <td>3035100</td>\n",
       "      <td>0</td>\n",
       "      <td>0</td>\n",
       "      <td>110</td>\n",
       "      <td>0</td>\n",
       "      <td>53.769369</td>\n",
       "      <td>141.630631</td>\n",
       "      <td>...</td>\n",
       "      <td>0.0</td>\n",
       "      <td>0.0</td>\n",
       "      <td>0.0</td>\n",
       "      <td>0.0</td>\n",
       "      <td>0.0</td>\n",
       "      <td>0.0</td>\n",
       "      <td>0.0</td>\n",
       "      <td>0.0</td>\n",
       "      <td>0.000000</td>\n",
       "      <td>24.0</td>\n",
       "    </tr>\n",
       "    <tr>\n",
       "      <th>1</th>\n",
       "      <td>144439</td>\n",
       "      <td>0.001620</td>\n",
       "      <td>0</td>\n",
       "      <td>3035100</td>\n",
       "      <td>0</td>\n",
       "      <td>0</td>\n",
       "      <td>86</td>\n",
       "      <td>1</td>\n",
       "      <td>19.057678</td>\n",
       "      <td>49.891386</td>\n",
       "      <td>...</td>\n",
       "      <td>0.0</td>\n",
       "      <td>0.0</td>\n",
       "      <td>0.0</td>\n",
       "      <td>0.0</td>\n",
       "      <td>0.0</td>\n",
       "      <td>0.0</td>\n",
       "      <td>0.0</td>\n",
       "      <td>0.0</td>\n",
       "      <td>0.000000</td>\n",
       "      <td>7.0</td>\n",
       "    </tr>\n",
       "    <tr>\n",
       "      <th>2</th>\n",
       "      <td>146431</td>\n",
       "      <td>0.006771</td>\n",
       "      <td>0</td>\n",
       "      <td>3035100</td>\n",
       "      <td>0</td>\n",
       "      <td>0</td>\n",
       "      <td>304</td>\n",
       "      <td>0</td>\n",
       "      <td>7.627530</td>\n",
       "      <td>32.530364</td>\n",
       "      <td>...</td>\n",
       "      <td>0.0</td>\n",
       "      <td>0.0</td>\n",
       "      <td>0.0</td>\n",
       "      <td>0.0</td>\n",
       "      <td>0.0</td>\n",
       "      <td>0.0</td>\n",
       "      <td>0.0</td>\n",
       "      <td>0.0</td>\n",
       "      <td>0.166667</td>\n",
       "      <td>8.0</td>\n",
       "    </tr>\n",
       "    <tr>\n",
       "      <th>3</th>\n",
       "      <td>144433</td>\n",
       "      <td>0.011655</td>\n",
       "      <td>0</td>\n",
       "      <td>3035100</td>\n",
       "      <td>0</td>\n",
       "      <td>0</td>\n",
       "      <td>75</td>\n",
       "      <td>0</td>\n",
       "      <td>19.647257</td>\n",
       "      <td>59.244726</td>\n",
       "      <td>...</td>\n",
       "      <td>76.0</td>\n",
       "      <td>6.0</td>\n",
       "      <td>70.0</td>\n",
       "      <td>30.0</td>\n",
       "      <td>23.0</td>\n",
       "      <td>228.0</td>\n",
       "      <td>2.0</td>\n",
       "      <td>6555.0</td>\n",
       "      <td>0.000096</td>\n",
       "      <td>4.0</td>\n",
       "    </tr>\n",
       "    <tr>\n",
       "      <th>4</th>\n",
       "      <td>144424</td>\n",
       "      <td>0.042951</td>\n",
       "      <td>0</td>\n",
       "      <td>3035100</td>\n",
       "      <td>0</td>\n",
       "      <td>0</td>\n",
       "      <td>134</td>\n",
       "      <td>0</td>\n",
       "      <td>9.936790</td>\n",
       "      <td>33.483951</td>\n",
       "      <td>...</td>\n",
       "      <td>0.0</td>\n",
       "      <td>0.0</td>\n",
       "      <td>0.0</td>\n",
       "      <td>0.0</td>\n",
       "      <td>0.0</td>\n",
       "      <td>0.0</td>\n",
       "      <td>0.0</td>\n",
       "      <td>0.0</td>\n",
       "      <td>0.166667</td>\n",
       "      <td>2.0</td>\n",
       "    </tr>\n",
       "  </tbody>\n",
       "</table>\n",
       "<p>5 rows × 29 columns</p>\n",
       "</div>"
      ],
      "text/plain": [
       "       id  questionage  label  decision_time  topic_reputation_user  \\\n",
       "0  144354     0.348912      1        3035100                      0   \n",
       "1  144439     0.001620      0        3035100                      0   \n",
       "2  146431     0.006771      0        3035100                      0   \n",
       "3  144433     0.011655      0        3035100                      0   \n",
       "4  144424     0.042951      0        3035100                      0   \n",
       "\n",
       "   topic_reputation_asker  num_words  num_hyperlinks  GunningFogIndex  \\\n",
       "0                       0        110               0        53.769369   \n",
       "1                       0         86               1        19.057678   \n",
       "2                       0        304               0         7.627530   \n",
       "3                       0         75               0        19.647257   \n",
       "4                       0        134               0         9.936790   \n",
       "\n",
       "          LIX  ...   number_posts_asker  num_questions_asker  \\\n",
       "0  141.630631  ...                  0.0                  0.0   \n",
       "1   49.891386  ...                  0.0                  0.0   \n",
       "2   32.530364  ...                  0.0                  0.0   \n",
       "3   59.244726  ...                 76.0                  6.0   \n",
       "4   33.483951  ...                  0.0                  0.0   \n",
       "\n",
       "   number_answers_asker  accepted_answers_asker  question_reputation_asker  \\\n",
       "0                   0.0                     0.0                        0.0   \n",
       "1                   0.0                     0.0                        0.0   \n",
       "2                   0.0                     0.0                        0.0   \n",
       "3                  70.0                    30.0                       23.0   \n",
       "4                   0.0                     0.0                        0.0   \n",
       "\n",
       "   answer_reputation_asker  num_solved_questions_asker  reputation_asker  \\\n",
       "0                      0.0                         0.0               0.0   \n",
       "1                      0.0                         0.0               0.0   \n",
       "2                      0.0                         0.0               0.0   \n",
       "3                    228.0                         2.0            6555.0   \n",
       "4                      0.0                         0.0               0.0   \n",
       "\n",
       "   topic_affinity_user  rank  \n",
       "0             0.000000  24.0  \n",
       "1             0.000000   7.0  \n",
       "2             0.166667   8.0  \n",
       "3             0.000096   4.0  \n",
       "4             0.166667   2.0  \n",
       "\n",
       "[5 rows x 29 columns]"
      ]
     },
     "execution_count": 2,
     "metadata": {},
     "output_type": "execute_result"
    }
   ],
   "source": [
    "data = pd.read_csv(\"../Baselines/ranks_features_2015.csv\")\n",
    "data.head()"
   ]
  },
  {
   "cell_type": "markdown",
   "metadata": {},
   "source": [
    "### Sanity check"
   ]
  },
  {
   "cell_type": "code",
   "execution_count": 3,
   "metadata": {
    "scrolled": true
   },
   "outputs": [
    {
     "name": "stdout",
     "output_type": "stream",
     "text": [
      "average of how many different ranks per group: 93.12596401028277\n"
     ]
    }
   ],
   "source": [
    "diff_ranks = []\n",
    "for group in np.unique(data[\"decision_time\"].values):\n",
    "    subset = data[data[\"decision_time\"]==group]\n",
    "    # print(len(subset))\n",
    "    # print(len(np.unique(subset[\"rank\"])), len(subset))\n",
    "    diff_ranks.append(len(np.unique(subset[\"rank\"])))\n",
    "print(\"average of how many different ranks per group:\", np.mean(diff_ranks))"
   ]
  },
  {
   "cell_type": "markdown",
   "metadata": {},
   "source": [
    "### Feature importance (copied from output when training and testing RF):\n",
    "\n",
    "['topic_reputation_asker' 'num_hyperlinks' 'accepted_answers_asker'\n",
    " 'num_solved_questions_user' 'number_answers_asker'\n",
    " 'answer_reputation_asker' 'num_questions_user' 'question_reputation_user'\n",
    " 'num_questions_asker' 'number_posts_asker' 'accepted_answers_user'\n",
    " 'number_answers_user' 'number_posts_user' 'num_solved_questions_asker'\n",
    " 'answer_reputation_user' 'question_reputation_asker'\n",
    " 'topic_reputation_user' 'topic_affinity_user' 'num_words'\n",
    " 'GunningFogIndex' 'cumulative_term_entropy' 'LIX' 'questionage']\n",
    " \n",
    " --> sorted by importance (questionage most important)"
   ]
  },
  {
   "cell_type": "markdown",
   "metadata": {},
   "source": [
    "### compare label=1 data to label=0 data"
   ]
  },
  {
   "cell_type": "code",
   "execution_count": 5,
   "metadata": {},
   "outputs": [],
   "source": [
    "data_neg = data[data[\"label\"]==0]\n",
    "data_gt = data[data[\"label\"]==1]"
   ]
  },
  {
   "cell_type": "code",
   "execution_count": 6,
   "metadata": {},
   "outputs": [
    {
     "name": "stdout",
     "output_type": "stream",
     "text": [
      "comparison of ranks\n",
      "label=0:  51.304627580171925\n",
      "label=1:  18.768637532133678\n"
     ]
    }
   ],
   "source": [
    "print(\"comparison of ranks\")\n",
    "print(\"label=0: \", np.mean(data_neg[\"rank\"].values))\n",
    "print(\"label=1: \", np.mean(data_gt[\"rank\"].values))"
   ]
  },
  {
   "cell_type": "code",
   "execution_count": 7,
   "metadata": {},
   "outputs": [
    {
     "name": "stdout",
     "output_type": "stream",
     "text": [
      "topic_affinity_user\n",
      "label=0:  0.016316644487467113\n",
      "label=1:  0.02962331032860369\n"
     ]
    }
   ],
   "source": [
    "# print(\"topic_affinity_asker\")\n",
    "#print(np.mean(data_neg[\"topic_affinity_asker\"].values))\n",
    "#print(np.mean(data_gt[\"topic_affinity_asker\"].values))\n",
    "\n",
    "print(\"topic_affinity_user\")\n",
    "print(\"label=0: \", np.mean(data_neg[\"topic_affinity_user\"].values))\n",
    "print(\"label=1: \", np.mean(data_gt[\"topic_affinity_user\"].values))"
   ]
  },
  {
   "cell_type": "markdown",
   "metadata": {},
   "source": [
    "# Analyze the ground truth questions"
   ]
  },
  {
   "cell_type": "code",
   "execution_count": 68,
   "metadata": {},
   "outputs": [],
   "source": [
    "data_gt = data[data[\"label\"]==1]"
   ]
  },
  {
   "cell_type": "markdown",
   "metadata": {},
   "source": [
    "### Which features correlate with the rank?\n",
    "\n",
    "I.e. can we say the higher the rank (=the less accurate the prediction), the higher questionage for example?"
   ]
  },
  {
   "cell_type": "code",
   "execution_count": 8,
   "metadata": {
    "scrolled": true
   },
   "outputs": [
    {
     "name": "stdout",
     "output_type": "stream",
     "text": [
      "questionage 0.14702390964975545\n",
      "num_solved_questions_asker -0.14213606142550003\n",
      "num_questions_asker -0.13987235768005107\n",
      "question_reputation_asker -0.12873526940881283\n",
      "label -0.11059379871410217\n",
      "number_posts_asker -0.08484951492980648\n",
      "reputation_asker -0.08349166812773146\n",
      "topic_affinity_user -0.07094509984451665\n",
      "topic_reputation_asker -0.06610302991897443\n",
      "GunningFogIndex 0.06487867298337294\n",
      "LIX 0.06432952055043893\n",
      "number_answers_asker -0.06039716394555523\n",
      "answer_reputation_asker -0.05747531094788287\n",
      "accepted_answers_asker -0.053004169891619886\n",
      "num_hyperlinks -0.04672408940095883\n",
      "topic_reputation_user -0.03618122203373425\n",
      "cumulative_term_entropy 0.028275601812327602\n",
      "num_words -0.022273218330200906\n",
      "id -0.0020253142156880367\n",
      "number_posts_user 0.000920055478251231\n",
      "number_answers_user 0.0008756101526189667\n",
      "reputation_user 0.0008603131544710756\n",
      "answer_reputation_user 0.0008498000663352356\n",
      "accepted_answers_user 0.0008095369193718566\n",
      "num_questions_user 0.0007213369535871974\n",
      "num_solved_questions_user 0.0004948483627011275\n",
      "decision_time -0.000253037019292024\n",
      "question_reputation_user -0.0001841818978343026\n"
     ]
    }
   ],
   "source": [
    "corrs = []\n",
    "cols = np.asarray(data.columns[:-1])\n",
    "for col in data.columns[:-1]:\n",
    "    r, _ = pearsonr(data[col], data[\"rank\"])\n",
    "    # print(col, data_gt[col].values.tolist())\n",
    "    corrs.append(r)\n",
    "sorted_corrs = np.flip(np.argsort(np.abs(corrs)))\n",
    "sorted_cols = cols[sorted_corrs]\n",
    "sorted_corrs = np.asarray(corrs)[sorted_corrs]\n",
    "for i in range(len(sorted_corrs)):\n",
    "    print(sorted_cols[i], sorted_corrs[i])"
   ]
  },
  {
   "cell_type": "code",
   "execution_count": 70,
   "metadata": {},
   "outputs": [
    {
     "data": {
      "image/png": "[encoded data removed]",
      "text/plain": [
       "<Figure size 720x360 with 1 Axes>"
      ]
     },
     "metadata": {
      "needs_background": "light"
     },
     "output_type": "display_data"
    }
   ],
   "source": [
    "plt.figure(figsize=(10,5))\n",
    "plt.scatter(data_gt[\"questionage\"], data_gt[\"rank\"])\n",
    "plt.xlabel(\"question age in days\")\n",
    "plt.ylabel(\"predicted rank (should be 1)\")\n",
    "plt.show()"
   ]
  },
  {
   "cell_type": "code",
   "execution_count": 62,
   "metadata": {},
   "outputs": [
    {
     "data": {
      "image/png": "[encoded data removed]",
      "text/plain": [
       "<Figure size 720x360 with 1 Axes>"
      ]
     },
     "metadata": {
      "needs_background": "light"
     },
     "output_type": "display_data"
    }
   ],
   "source": [
    "plt.figure(figsize=(10,5))\n",
    "plt.scatter(data_gt[\"cumulative_term_entropy\"], data_gt[\"rank\"])\n",
    "plt.xlabel(\"cumulative term entropy\")\n",
    "plt.ylabel(\"predicted rank (should be 1)\")\n",
    "plt.show()"
   ]
  },
  {
   "cell_type": "markdown",
   "metadata": {},
   "source": [
    "### How to the well-predicted examples differ from the ones where prediction did not work?"
   ]
  },
  {
   "cell_type": "code",
   "execution_count": 9,
   "metadata": {},
   "outputs": [],
   "source": [
    "data_good = data_gt[data_gt[\"rank\"]>10]\n",
    "data_bad = data_gt[data_gt[\"rank\"]<=10]"
   ]
  },
  {
   "cell_type": "code",
   "execution_count": 10,
   "metadata": {},
   "outputs": [
    {
     "data": {
      "image/png": "[encoded data removed]",
      "text/plain": [
       "<Figure size 1800x432 with 3 Axes>"
      ]
     },
     "metadata": {
      "needs_background": "light"
     },
     "output_type": "display_data"
    }
   ],
   "source": [
    "num_plots = 3\n",
    "plt.figure(figsize=(25,6))\n",
    "plt.subplot(1,num_plots,1)\n",
    "plt.boxplot([data_good[\"questionage\"], data_bad[\"questionage\"]])\n",
    "plt.xticks([1, 2], ['GOOD (ranks<10)', 'BAD (ranks>10)'])\n",
    "plt.title(\"question age\")\n",
    "plt.subplot(1,num_plots,2)\n",
    "plt.boxplot([data_good[\"num_words\"], data_bad[\"num_words\"]])\n",
    "plt.xticks([1, 2], ['GOOD (ranks<10)', 'BAD (ranks>10)'])\n",
    "plt.title(\"number words\")\n",
    "plt.subplot(1,num_plots,3)\n",
    "plt.boxplot([data_good[\"topic_affinity_user\"], data_bad[\"topic_affinity_user\"]])\n",
    "plt.xticks([1, 2], ['GOOD (ranks<10)', 'BAD (ranks>10)'])\n",
    "# plt.ylim(0,3000)\n",
    "plt.title(\"topic_affinity_user\")\n",
    "plt.suptitle(\"Compare the correctly predicted data (rank <10) to the badly predicted data out of all positive examples (label=1)\", fontsize=15)\n",
    "plt.savefig(\"gt_data_boxplots_correctVSwronlyPredicted\")\n",
    "plt.show()"
   ]
  },
  {
   "cell_type": "code",
   "execution_count": 12,
   "metadata": {},
   "outputs": [
    {
     "data": {
      "image/png": "[encoded data removed]",
      "text/plain": [
       "<Figure size 1800x432 with 3 Axes>"
      ]
     },
     "metadata": {
      "needs_background": "light"
     },
     "output_type": "display_data"
    }
   ],
   "source": [
    "num_plots = 3\n",
    "plt.figure(figsize=(25,6))\n",
    "plt.subplot(1,num_plots,1)\n",
    "plt.boxplot([data_good[\"topic_reputation_user\"], data_bad[\"topic_reputation_user\"]])\n",
    "plt.xticks([1, 2], ['GOOD (ranks<10)', 'BAD (ranks>10)'])\n",
    "plt.title(\"topic_reputation_user\")\n",
    "plt.subplot(1,num_plots,2)\n",
    "plt.boxplot([data_good[\"answer_reputation_user\"], data_bad[\"answer_reputation_user\"]])\n",
    "plt.xticks([1, 2], ['GOOD (ranks<10)', 'BAD (ranks>10)'])\n",
    "plt.title(\"answer_reputation_user\")\n",
    "plt.subplot(1,num_plots,3)\n",
    "plt.boxplot([data_good[\"num_hyperlinks\"], data_bad[\"num_hyperlinks\"]])\n",
    "plt.xticks([1, 2], ['GOOD (ranks<10)', 'BAD (ranks>10)'])\n",
    "# plt.ylim(0,3000)\n",
    "plt.title(\"num_hyperlinks\")\n",
    "plt.suptitle(\"Compare the correctly predicted data (rank <10) to the badly predicted data out of all positive examples\", fontsize=15)\n",
    "plt.show()"
   ]
  },
  {
   "cell_type": "code",
   "execution_count": 14,
   "metadata": {},
   "outputs": [
    {
     "name": "stdout",
     "output_type": "stream",
     "text": [
      "id 1.0061015058380531\n",
      "questionage 0.4468786503758033\n",
      "label 1.0\n",
      "decision_time 1.0882333612896662\n",
      "topic_reputation_user 0.8790833725886207\n",
      "topic_reputation_asker 1.092690371573804\n",
      "num_words 1.4300041249447406\n",
      "num_hyperlinks 1.6531895777178798\n",
      "GunningFogIndex 1.1328358922005077\n",
      "LIX 1.1180706670347427\n",
      "cumulative_term_entropy 1.084862040483922\n",
      "number_posts_user 0.9288420663524627\n",
      "num_questions_user 0.9166289942658641\n",
      "number_answers_user 0.9517309113189526\n",
      "accepted_answers_user 0.9152583550996524\n",
      "question_reputation_user 0.9367437942103505\n",
      "answer_reputation_user 0.8774757810914993\n",
      "num_solved_questions_user 0.8399269628727937\n",
      "reputation_user 0.8688749920846583\n",
      "number_posts_asker 0.35293117427376425\n",
      "num_questions_asker 0.5377845614262982\n",
      "number_answers_asker 0.24109014675052412\n",
      "accepted_answers_asker 0.2656911821332306\n",
      "question_reputation_asker 0.6629554879856954\n",
      "answer_reputation_asker 0.3818885927526192\n",
      "num_solved_questions_asker 0.5554124541181016\n",
      "reputation_asker 0.6604782605743231\n",
      "topic_affinity_user 0.516447872236523\n",
      "rank 10.380105220900505\n"
     ]
    }
   ],
   "source": [
    "for col in data_gt.columns:\n",
    "    print(col, np.mean(data_good[col])/np.mean(data_bad[col]))"
   ]
  },
  {
   "cell_type": "markdown",
   "metadata": {},
   "source": [
    "# Analyze the questions that were ranked high\n",
    "\n",
    "Not necessarily the ground truth - what do questions have in common for which the random forest outputs a high rank?"
   ]
  },
  {
   "cell_type": "code",
   "execution_count": 15,
   "metadata": {},
   "outputs": [],
   "source": [
    "high_preds = data[data[\"rank\"]<10]\n",
    "low_preds = data[data[\"rank\"]>=10]"
   ]
  },
  {
   "cell_type": "code",
   "execution_count": 16,
   "metadata": {},
   "outputs": [
    {
     "name": "stdout",
     "output_type": "stream",
     "text": [
      "id 1.0008346102850643\n",
      "questionage 0.597333514088812\n",
      "label 13.609759861719859\n",
      "decision_time 1.0018148086424927\n",
      "topic_reputation_user 1.4580220237743913\n",
      "topic_reputation_asker 4.772438920431882\n",
      "num_words 1.0101564067097344\n",
      "num_hyperlinks 1.0669606593510348\n",
      "GunningFogIndex 0.9782792661143015\n",
      "LIX 0.9820310544268579\n",
      "cumulative_term_entropy 0.95589808766134\n",
      "number_posts_user 0.9924837579990592\n",
      "num_questions_user 0.9996990520514832\n",
      "number_answers_user 0.9924317253193876\n",
      "accepted_answers_user 0.9920662548521586\n",
      "question_reputation_user 0.9980966793935958\n",
      "answer_reputation_user 0.9906252864169948\n",
      "num_solved_questions_user 0.9998937876292406\n",
      "reputation_user 0.9916615344760864\n",
      "number_posts_asker 2.7667426284619547\n",
      "num_questions_asker 1.6825645198006942\n",
      "number_answers_asker 3.6096082547829913\n",
      "accepted_answers_asker 4.3128212094341905\n",
      "question_reputation_asker 1.87413669887118\n",
      "answer_reputation_asker 4.224151032738233\n",
      "num_solved_questions_asker 1.797250696486277\n",
      "reputation_asker 3.2396667969042245\n",
      "topic_affinity_user 1.5123655633655984\n",
      "rank 0.09002386110152395\n"
     ]
    }
   ],
   "source": [
    "for col in data_gt.columns:\n",
    "    print(col, np.mean(high_preds[col])/np.mean(low_preds[col]))"
   ]
  },
  {
   "cell_type": "code",
   "execution_count": 17,
   "metadata": {},
   "outputs": [
    {
     "data": {
      "image/png": "[encoded data removed]",
      "text/plain": [
       "<Figure size 1800x720 with 3 Axes>"
      ]
     },
     "metadata": {
      "needs_background": "light"
     },
     "output_type": "display_data"
    },
    {
     "data": {
      "image/png": "[encoded data removed]",
      "text/plain": [
       "<Figure size 1800x720 with 3 Axes>"
      ]
     },
     "metadata": {
      "needs_background": "light"
     },
     "output_type": "display_data"
    }
   ],
   "source": [
    "plt.rcParams.update({'font.size': 22})\n",
    "num_plots = 3\n",
    "plt.figure(figsize=(25,10))\n",
    "plt.subplot(1,num_plots,1)\n",
    "plt.boxplot([high_preds[\"questionage\"], low_preds[\"questionage\"]])\n",
    "plt.xticks([1, 2], ['low ranks (<10)', 'high ranks (>10)'])\n",
    "plt.title(\"question age\")\n",
    "plt.subplot(1,num_plots,2)\n",
    "plt.boxplot([high_preds[\"topic_affinity_user\"], low_preds[\"topic_reputation_asker\"]])\n",
    "plt.xticks([1, 2], ['low ranks (<10)', 'high ranks (>10)'])\n",
    "plt.title(\"topic_reputation_asker\")\n",
    "plt.subplot(1,num_plots,3)\n",
    "plt.boxplot([high_preds[\"topic_reputation_user\"], low_preds[\"topic_reputation_user\"]])\n",
    "plt.xticks([1, 2], ['low ranks (<10)', 'high ranks (>10)'])\n",
    "plt.title(\"topic_reputation_user\")\n",
    "plt.show()\n",
    "\n",
    "plt.figure(figsize=(25,10))\n",
    "plt.subplot(1,num_plots,1)\n",
    "plt.boxplot([high_preds[\"questionage\"], low_preds[\"topic_affinity_user\"]])\n",
    "plt.xticks([1, 2], ['low ranks (<10)', 'high ranks (>10)'])\n",
    "plt.title(\"topic_affinity_user\")\n",
    "plt.subplot(1,num_plots,2)\n",
    "plt.boxplot([high_preds[\"topic_affinity_user\"], low_preds[\"number_posts_asker\"]])\n",
    "plt.xticks([1, 2], ['low ranks (<10)', 'high ranks (>10)'])\n",
    "plt.title(\"number_posts_asker\")\n",
    "plt.subplot(1,num_plots,3)\n",
    "plt.boxplot([high_preds[\"topic_reputation_user\"], low_preds[\"answer_reputation_asker\"]])\n",
    "plt.xticks([1, 2], ['low ranks (<10)', 'high ranks (>10)'])\n",
    "plt.title(\"answer_reputation_asker\")\n",
    "plt.show()"
   ]
  },
  {
   "cell_type": "code",
   "execution_count": 18,
   "metadata": {},
   "outputs": [
    {
     "name": "stdout",
     "output_type": "stream",
     "text": [
      "Comparison of ranks of compared data:\n",
      "all data, rank <10: 4.993986254295533\n",
      "all data, rank >10: 55.474028698497946\n",
      "\n",
      "Comparison of topic affinity (user:\n",
      "all data, rank <10: 0.023791507008280855\n",
      "all data, rank >10: 0.015731320247292294\n",
      "ground truth data (should have low ranks): 0.029623310328603682\n",
      "negative examples data (should have high ranks): 0.016316644487466586\n",
      "\n",
      "Comparison of topic reputation (user):\n",
      "all data, rank <10: 14.631443298969073\n",
      "all data, rank >10: 10.035131884422814\n",
      "ground truth data (should have low ranks): 27.645244215938302\n",
      "negative examples data (should have high ranks): 10.271915375508312\n",
      "\n",
      "Comparison of asker reputation (not used as feature itself):\n",
      "all data, rank <10: 1815.75372279496\n",
      "all data, rank >10: 560.4754552320214\n",
      "ground truth data (should have low ranks): 738.6940874035989\n",
      "negative examples data (should have high ranks): 671.5091882431667\n",
      "INTERPRETATION: the random forests selects questions from popular askers - why? It does not seem to be a feature that discriminates the ground truth from the negative data, because there the difference is not very significant.\n",
      "\n"
     ]
    }
   ],
   "source": [
    "print(\"Comparison of ranks of compared data:\")\n",
    "print(\"all data, rank <10:\", np.mean(high_preds[\"rank\"]))\n",
    "print(\"all data, rank >10:\", np.mean(low_preds[\"rank\"]))\n",
    "print(\"\")\n",
    "print(\"Comparison of topic affinity (user:\")\n",
    "print(\"all data, rank <10:\", np.mean(high_preds[\"topic_affinity_user\"]))\n",
    "print(\"all data, rank >10:\", np.mean(low_preds[\"topic_affinity_user\"]))\n",
    "print(\"ground truth data (should have low ranks):\", np.mean(data_gt[\"topic_affinity_user\"]))\n",
    "print(\"negative examples data (should have high ranks):\", np.mean(data_neg[\"topic_affinity_user\"]))\n",
    "print(\"\")\n",
    "print(\"Comparison of topic reputation (user):\")\n",
    "print(\"all data, rank <10:\", np.mean(high_preds[\"topic_reputation_user\"]))\n",
    "print(\"all data, rank >10:\", np.mean(low_preds[\"topic_reputation_user\"]))\n",
    "print(\"ground truth data (should have low ranks):\", np.mean(data_gt[\"topic_reputation_user\"]))\n",
    "print(\"negative examples data (should have high ranks):\", np.mean(data_neg[\"topic_reputation_user\"]))\n",
    "print(\"\")\n",
    "print(\"Comparison of asker reputation (not used as feature itself):\")\n",
    "print(\"all data, rank <10:\", np.mean(high_preds[\"reputation_asker\"]))\n",
    "print(\"all data, rank >10:\", np.mean(low_preds[\"reputation_asker\"]))\n",
    "print(\"ground truth data (should have low ranks):\", np.mean(data_gt[\"reputation_asker\"]))\n",
    "print(\"negative examples data (should have high ranks):\", np.mean(data_neg[\"reputation_asker\"]))\n",
    "print(\"INTERPRETATION: the random forests selects questions from popular askers - why? It does not seem to be a feature that discriminates the ground truth from the negative data, because there the difference is not very significant.\")\n",
    "print(\"\")"
   ]
  },
  {
   "cell_type": "markdown",
   "metadata": {},
   "source": [
    "### Average value of number of appearances of one question"
   ]
  },
  {
   "cell_type": "code",
   "execution_count": 19,
   "metadata": {},
   "outputs": [
    {
     "name": "stdout",
     "output_type": "stream",
     "text": [
      "3.0447457095838883\n"
     ]
    }
   ],
   "source": [
    "a, b = np.unique(data_neg[\"id\"].values.tolist(), return_counts=True)\n",
    "print(np.mean(b))"
   ]
  },
  {
   "cell_type": "markdown",
   "metadata": {},
   "source": [
    "### Aggregate the negative examples:\n",
    "\n",
    "### - Compute the average rank per question (proposed to several users) \n",
    "\n",
    "### - Compare the ones that were recommended often to the ones that were not recommended often (high ranks)"
   ]
  },
  {
   "cell_type": "code",
   "execution_count": 20,
   "metadata": {},
   "outputs": [],
   "source": [
    "agg = data.groupby([\"id\"]).agg({\"rank\":'mean', 'id':'count'})"
   ]
  },
  {
   "cell_type": "code",
   "execution_count": 154,
   "metadata": {
    "scrolled": true
   },
   "outputs": [
    {
     "data": {
      "text/html": [
       "<div>\n",
       "<style scoped>\n",
       "    .dataframe tbody tr th:only-of-type {\n",
       "        vertical-align: middle;\n",
       "    }\n",
       "\n",
       "    .dataframe tbody tr th {\n",
       "        vertical-align: top;\n",
       "    }\n",
       "\n",
       "    .dataframe thead th {\n",
       "        text-align: right;\n",
       "    }\n",
       "</style>\n",
       "<table border=\"1\" class=\"dataframe\">\n",
       "  <thead>\n",
       "    <tr style=\"text-align: right;\">\n",
       "      <th></th>\n",
       "      <th>rank</th>\n",
       "      <th>id</th>\n",
       "    </tr>\n",
       "    <tr>\n",
       "      <th>id</th>\n",
       "      <th></th>\n",
       "      <th></th>\n",
       "    </tr>\n",
       "  </thead>\n",
       "  <tbody>\n",
       "    <tr>\n",
       "      <th>130866</th>\n",
       "      <td>21.000000</td>\n",
       "      <td>1</td>\n",
       "    </tr>\n",
       "    <tr>\n",
       "      <th>130908</th>\n",
       "      <td>60.000000</td>\n",
       "      <td>1</td>\n",
       "    </tr>\n",
       "    <tr>\n",
       "      <th>130911</th>\n",
       "      <td>60.000000</td>\n",
       "      <td>1</td>\n",
       "    </tr>\n",
       "    <tr>\n",
       "      <th>130912</th>\n",
       "      <td>64.500000</td>\n",
       "      <td>2</td>\n",
       "    </tr>\n",
       "    <tr>\n",
       "      <th>130926</th>\n",
       "      <td>60.000000</td>\n",
       "      <td>1</td>\n",
       "    </tr>\n",
       "    <tr>\n",
       "      <th>130931</th>\n",
       "      <td>60.000000</td>\n",
       "      <td>1</td>\n",
       "    </tr>\n",
       "    <tr>\n",
       "      <th>130933</th>\n",
       "      <td>33.000000</td>\n",
       "      <td>2</td>\n",
       "    </tr>\n",
       "    <tr>\n",
       "      <th>130937</th>\n",
       "      <td>64.000000</td>\n",
       "      <td>2</td>\n",
       "    </tr>\n",
       "    <tr>\n",
       "      <th>130939</th>\n",
       "      <td>22.666667</td>\n",
       "      <td>3</td>\n",
       "    </tr>\n",
       "    <tr>\n",
       "      <th>130947</th>\n",
       "      <td>60.000000</td>\n",
       "      <td>1</td>\n",
       "    </tr>\n",
       "    <tr>\n",
       "      <th>130954</th>\n",
       "      <td>21.000000</td>\n",
       "      <td>1</td>\n",
       "    </tr>\n",
       "    <tr>\n",
       "      <th>130956</th>\n",
       "      <td>60.000000</td>\n",
       "      <td>1</td>\n",
       "    </tr>\n",
       "    <tr>\n",
       "      <th>130960</th>\n",
       "      <td>42.000000</td>\n",
       "      <td>2</td>\n",
       "    </tr>\n",
       "    <tr>\n",
       "      <th>130967</th>\n",
       "      <td>60.000000</td>\n",
       "      <td>1</td>\n",
       "    </tr>\n",
       "    <tr>\n",
       "      <th>130968</th>\n",
       "      <td>60.000000</td>\n",
       "      <td>1</td>\n",
       "    </tr>\n",
       "    <tr>\n",
       "      <th>130969</th>\n",
       "      <td>61.000000</td>\n",
       "      <td>2</td>\n",
       "    </tr>\n",
       "    <tr>\n",
       "      <th>130974</th>\n",
       "      <td>46.000000</td>\n",
       "      <td>3</td>\n",
       "    </tr>\n",
       "    <tr>\n",
       "      <th>130976</th>\n",
       "      <td>60.000000</td>\n",
       "      <td>1</td>\n",
       "    </tr>\n",
       "    <tr>\n",
       "      <th>130978</th>\n",
       "      <td>21.000000</td>\n",
       "      <td>1</td>\n",
       "    </tr>\n",
       "    <tr>\n",
       "      <th>130979</th>\n",
       "      <td>45.500000</td>\n",
       "      <td>2</td>\n",
       "    </tr>\n",
       "    <tr>\n",
       "      <th>130984</th>\n",
       "      <td>60.000000</td>\n",
       "      <td>1</td>\n",
       "    </tr>\n",
       "    <tr>\n",
       "      <th>130988</th>\n",
       "      <td>60.000000</td>\n",
       "      <td>1</td>\n",
       "    </tr>\n",
       "    <tr>\n",
       "      <th>130994</th>\n",
       "      <td>60.000000</td>\n",
       "      <td>1</td>\n",
       "    </tr>\n",
       "    <tr>\n",
       "      <th>130996</th>\n",
       "      <td>35.750000</td>\n",
       "      <td>4</td>\n",
       "    </tr>\n",
       "    <tr>\n",
       "      <th>131007</th>\n",
       "      <td>21.000000</td>\n",
       "      <td>1</td>\n",
       "    </tr>\n",
       "    <tr>\n",
       "      <th>131014</th>\n",
       "      <td>60.000000</td>\n",
       "      <td>1</td>\n",
       "    </tr>\n",
       "    <tr>\n",
       "      <th>131019</th>\n",
       "      <td>60.000000</td>\n",
       "      <td>1</td>\n",
       "    </tr>\n",
       "    <tr>\n",
       "      <th>131021</th>\n",
       "      <td>60.000000</td>\n",
       "      <td>1</td>\n",
       "    </tr>\n",
       "    <tr>\n",
       "      <th>131022</th>\n",
       "      <td>60.000000</td>\n",
       "      <td>1</td>\n",
       "    </tr>\n",
       "    <tr>\n",
       "      <th>131028</th>\n",
       "      <td>60.000000</td>\n",
       "      <td>1</td>\n",
       "    </tr>\n",
       "    <tr>\n",
       "      <th>...</th>\n",
       "      <td>...</td>\n",
       "      <td>...</td>\n",
       "    </tr>\n",
       "    <tr>\n",
       "      <th>188753</th>\n",
       "      <td>25.000000</td>\n",
       "      <td>3</td>\n",
       "    </tr>\n",
       "    <tr>\n",
       "      <th>188755</th>\n",
       "      <td>9.000000</td>\n",
       "      <td>1</td>\n",
       "    </tr>\n",
       "    <tr>\n",
       "      <th>188760</th>\n",
       "      <td>35.333333</td>\n",
       "      <td>3</td>\n",
       "    </tr>\n",
       "    <tr>\n",
       "      <th>188762</th>\n",
       "      <td>16.000000</td>\n",
       "      <td>2</td>\n",
       "    </tr>\n",
       "    <tr>\n",
       "      <th>188767</th>\n",
       "      <td>49.500000</td>\n",
       "      <td>2</td>\n",
       "    </tr>\n",
       "    <tr>\n",
       "      <th>188777</th>\n",
       "      <td>46.500000</td>\n",
       "      <td>2</td>\n",
       "    </tr>\n",
       "    <tr>\n",
       "      <th>188778</th>\n",
       "      <td>71.500000</td>\n",
       "      <td>2</td>\n",
       "    </tr>\n",
       "    <tr>\n",
       "      <th>188789</th>\n",
       "      <td>71.500000</td>\n",
       "      <td>2</td>\n",
       "    </tr>\n",
       "    <tr>\n",
       "      <th>188790</th>\n",
       "      <td>23.500000</td>\n",
       "      <td>2</td>\n",
       "    </tr>\n",
       "    <tr>\n",
       "      <th>188798</th>\n",
       "      <td>71.500000</td>\n",
       "      <td>2</td>\n",
       "    </tr>\n",
       "    <tr>\n",
       "      <th>188799</th>\n",
       "      <td>54.000000</td>\n",
       "      <td>2</td>\n",
       "    </tr>\n",
       "    <tr>\n",
       "      <th>188805</th>\n",
       "      <td>24.500000</td>\n",
       "      <td>2</td>\n",
       "    </tr>\n",
       "    <tr>\n",
       "      <th>188806</th>\n",
       "      <td>71.500000</td>\n",
       "      <td>2</td>\n",
       "    </tr>\n",
       "    <tr>\n",
       "      <th>188814</th>\n",
       "      <td>24.500000</td>\n",
       "      <td>2</td>\n",
       "    </tr>\n",
       "    <tr>\n",
       "      <th>188817</th>\n",
       "      <td>32.000000</td>\n",
       "      <td>2</td>\n",
       "    </tr>\n",
       "    <tr>\n",
       "      <th>188821</th>\n",
       "      <td>46.500000</td>\n",
       "      <td>2</td>\n",
       "    </tr>\n",
       "    <tr>\n",
       "      <th>188824</th>\n",
       "      <td>18.000000</td>\n",
       "      <td>2</td>\n",
       "    </tr>\n",
       "    <tr>\n",
       "      <th>188827</th>\n",
       "      <td>14.000000</td>\n",
       "      <td>2</td>\n",
       "    </tr>\n",
       "    <tr>\n",
       "      <th>188830</th>\n",
       "      <td>6.500000</td>\n",
       "      <td>2</td>\n",
       "    </tr>\n",
       "    <tr>\n",
       "      <th>188835</th>\n",
       "      <td>5.000000</td>\n",
       "      <td>2</td>\n",
       "    </tr>\n",
       "    <tr>\n",
       "      <th>188836</th>\n",
       "      <td>13.000000</td>\n",
       "      <td>2</td>\n",
       "    </tr>\n",
       "    <tr>\n",
       "      <th>188837</th>\n",
       "      <td>12.500000</td>\n",
       "      <td>2</td>\n",
       "    </tr>\n",
       "    <tr>\n",
       "      <th>188841</th>\n",
       "      <td>7.500000</td>\n",
       "      <td>2</td>\n",
       "    </tr>\n",
       "    <tr>\n",
       "      <th>188842</th>\n",
       "      <td>39.000000</td>\n",
       "      <td>2</td>\n",
       "    </tr>\n",
       "    <tr>\n",
       "      <th>188843</th>\n",
       "      <td>12.000000</td>\n",
       "      <td>2</td>\n",
       "    </tr>\n",
       "    <tr>\n",
       "      <th>188844</th>\n",
       "      <td>16.000000</td>\n",
       "      <td>1</td>\n",
       "    </tr>\n",
       "    <tr>\n",
       "      <th>188848</th>\n",
       "      <td>3.000000</td>\n",
       "      <td>1</td>\n",
       "    </tr>\n",
       "    <tr>\n",
       "      <th>188853</th>\n",
       "      <td>3.500000</td>\n",
       "      <td>2</td>\n",
       "    </tr>\n",
       "    <tr>\n",
       "      <th>188857</th>\n",
       "      <td>10.000000</td>\n",
       "      <td>1</td>\n",
       "    </tr>\n",
       "    <tr>\n",
       "      <th>189140</th>\n",
       "      <td>55.750000</td>\n",
       "      <td>4</td>\n",
       "    </tr>\n",
       "  </tbody>\n",
       "</table>\n",
       "<p>12930 rows × 2 columns</p>\n",
       "</div>"
      ],
      "text/plain": [
       "             rank  id\n",
       "id                   \n",
       "130866  21.000000   1\n",
       "130908  60.000000   1\n",
       "130911  60.000000   1\n",
       "130912  64.500000   2\n",
       "130926  60.000000   1\n",
       "130931  60.000000   1\n",
       "130933  33.000000   2\n",
       "130937  64.000000   2\n",
       "130939  22.666667   3\n",
       "130947  60.000000   1\n",
       "130954  21.000000   1\n",
       "130956  60.000000   1\n",
       "130960  42.000000   2\n",
       "130967  60.000000   1\n",
       "130968  60.000000   1\n",
       "130969  61.000000   2\n",
       "130974  46.000000   3\n",
       "130976  60.000000   1\n",
       "130978  21.000000   1\n",
       "130979  45.500000   2\n",
       "130984  60.000000   1\n",
       "130988  60.000000   1\n",
       "130994  60.000000   1\n",
       "130996  35.750000   4\n",
       "131007  21.000000   1\n",
       "131014  60.000000   1\n",
       "131019  60.000000   1\n",
       "131021  60.000000   1\n",
       "131022  60.000000   1\n",
       "131028  60.000000   1\n",
       "...           ...  ..\n",
       "188753  25.000000   3\n",
       "188755   9.000000   1\n",
       "188760  35.333333   3\n",
       "188762  16.000000   2\n",
       "188767  49.500000   2\n",
       "188777  46.500000   2\n",
       "188778  71.500000   2\n",
       "188789  71.500000   2\n",
       "188790  23.500000   2\n",
       "188798  71.500000   2\n",
       "188799  54.000000   2\n",
       "188805  24.500000   2\n",
       "188806  71.500000   2\n",
       "188814  24.500000   2\n",
       "188817  32.000000   2\n",
       "188821  46.500000   2\n",
       "188824  18.000000   2\n",
       "188827  14.000000   2\n",
       "188830   6.500000   2\n",
       "188835   5.000000   2\n",
       "188836  13.000000   2\n",
       "188837  12.500000   2\n",
       "188841   7.500000   2\n",
       "188842  39.000000   2\n",
       "188843  12.000000   2\n",
       "188844  16.000000   1\n",
       "188848   3.000000   1\n",
       "188853   3.500000   2\n",
       "188857  10.000000   1\n",
       "189140  55.750000   4\n",
       "\n",
       "[12930 rows x 2 columns]"
      ]
     },
     "execution_count": 154,
     "metadata": {},
     "output_type": "execute_result"
    }
   ],
   "source": [
    "agg"
   ]
  },
  {
   "cell_type": "code",
   "execution_count": 21,
   "metadata": {},
   "outputs": [],
   "source": [
    "agg_low_rank = agg[agg[\"rank\"]<10]\n",
    "low_rank_ids = agg_low_rank.index.tolist()\n",
    "agg_high_rank = agg[agg[\"rank\"]>=10]\n",
    "high_rank_ids = agg_high_rank.index.tolist()"
   ]
  },
  {
   "cell_type": "code",
   "execution_count": 22,
   "metadata": {},
   "outputs": [],
   "source": [
    "low_rank_df = data[data[\"id\"].isin(low_rank_ids)]\n",
    "high_rank_df = data[data[\"id\"].isin(high_rank_ids)]"
   ]
  },
  {
   "cell_type": "code",
   "execution_count": 23,
   "metadata": {},
   "outputs": [
    {
     "name": "stdout",
     "output_type": "stream",
     "text": [
      "number of low ranked ones (<10): 761\n",
      "number of high ranked ones (>10): 12169\n"
     ]
    }
   ],
   "source": [
    "print(\"number of low ranked ones (<10):\", len(low_rank_ids))\n",
    "print(\"number of high ranked ones (>10):\", len(high_rank_ids))"
   ]
  },
  {
   "cell_type": "code",
   "execution_count": 24,
   "metadata": {},
   "outputs": [
    {
     "name": "stdout",
     "output_type": "stream",
     "text": [
      "id 0.9749168959972324\n",
      "questionage 2.76243555446481\n",
      "label 0.053722910489196925\n",
      "decision_time 1.0443730257144233\n",
      "topic_reputation_user 0.5058126395668485\n",
      "topic_reputation_asker 0.08022951061018359\n",
      "num_words 1.019938264491106\n",
      "num_hyperlinks 0.8370228089629926\n",
      "GunningFogIndex 1.073868741549626\n",
      "LIX 1.0635926522765555\n",
      "cumulative_term_entropy 1.0579032533207806\n",
      "number_posts_user 0.9039273572529111\n",
      "num_questions_user 0.9395688891607453\n",
      "number_answers_user 0.9014792712060783\n",
      "accepted_answers_user 0.9077776560752432\n",
      "question_reputation_user 0.9723658875279789\n",
      "answer_reputation_user 0.8877137645079313\n",
      "num_solved_questions_user 0.9311525191235441\n",
      "reputation_user 0.9120164125799526\n",
      "number_posts_asker 0.14509308054687933\n",
      "num_questions_asker 0.54432902098307\n",
      "number_answers_asker 0.09046207015745235\n",
      "accepted_answers_asker 0.06742206270792366\n",
      "question_reputation_asker 0.43598441666666266\n",
      "answer_reputation_asker 0.07328709349349305\n",
      "num_solved_questions_asker 0.47808600312693833\n",
      "reputation_asker 0.11957059933663651\n",
      "topic_affinity_user 0.686687148806129\n",
      "rank 9.867713163654667\n"
     ]
    }
   ],
   "source": [
    "for col in low_rank_df.columns:\n",
    "    print(col, np.mean(high_rank_df[col])/np.mean(low_rank_df[col]))"
   ]
  },
  {
   "cell_type": "code",
   "execution_count": 25,
   "metadata": {
    "scrolled": false
   },
   "outputs": [
    {
     "data": {
      "image/png": "[encoded data removed]",
      "text/plain": [
       "<Figure size 1800x720 with 3 Axes>"
      ]
     },
     "metadata": {
      "needs_background": "light"
     },
     "output_type": "display_data"
    },
    {
     "data": {
      "image/png": "[encoded data removed]",
      "text/plain": [
       "<Figure size 1800x720 with 3 Axes>"
      ]
     },
     "metadata": {
      "needs_background": "light"
     },
     "output_type": "display_data"
    }
   ],
   "source": [
    "plt.rcParams.update({'font.size': 20})\n",
    "num_plots = 3\n",
    "plt.figure(figsize=(25,10))\n",
    "plt.subplot(1,num_plots,1)\n",
    "plt.boxplot([low_rank_df[\"questionage\"], high_rank_df[\"questionage\"]])\n",
    "plt.xticks([1, 2], ['low ranks', 'high ranks'])\n",
    "plt.title(\"question age\", fontsize=20)\n",
    "plt.subplot(1,num_plots,2)\n",
    "plt.boxplot([low_rank_df[\"topic_reputation_user\"], high_rank_df[\"topic_reputation_user\"]])\n",
    "plt.xticks([1, 2], ['low ranks', 'high ranks'])\n",
    "plt.title(\"topic_reputation_user\", fontsize=20)\n",
    "plt.subplot(1,num_plots,3)\n",
    "plt.boxplot([low_rank_df[\"num_words\"], high_rank_df[\"num_words\"]])\n",
    "plt.xticks([1, 2], ['low ranks', 'high ranks'])\n",
    "plt.title(\"number of words\", fontsize=20)\n",
    "plt.show()\n",
    "\n",
    "num_plots = 3\n",
    "plt.figure(figsize=(25,10))\n",
    "plt.subplot(1,num_plots,1)\n",
    "plt.boxplot([low_rank_df[\"topic_affinity_user\"], high_rank_df[\"topic_affinity_user\"]])\n",
    "plt.xticks([1, 2], ['low ranks', 'high ranks'])\n",
    "plt.title(\"topic_affinity_user\", fontsize=20)\n",
    "plt.subplot(1,num_plots,2)\n",
    "plt.boxplot([low_rank_df[\"num_hyperlinks\"], high_rank_df[\"num_hyperlinks\"]])\n",
    "plt.xticks([1, 2], ['low ranks', 'high ranks'])\n",
    "plt.title(\"num_hyperlinks\", fontsize=20)\n",
    "plt.subplot(1,num_plots,3)\n",
    "plt.boxplot([low_rank_df[\"topic_reputation_asker\"], high_rank_df[\"topic_reputation_asker\"]])\n",
    "plt.xticks([1, 2], ['low ranks', 'high ranks'])\n",
    "plt.title(\"topic_affinity_asker\", fontsize=20)\n",
    "plt.show()"
   ]
  },
  {
   "cell_type": "code",
   "execution_count": 27,
   "metadata": {},
   "outputs": [
    {
     "name": "stdout",
     "output_type": "stream",
     "text": [
      "Comparison of ranks of compared data:\n",
      "all data, rank <10: 5.28714859437751\n",
      "all data, rank >10: 52.172065782937224\n",
      "\n",
      "Comparison of topic affinity (user:\n",
      "all data, rank <10: 0.023679270828487305\n",
      "all data, rank >10: 0.016260250971022093\n",
      "ground truth data (should have low ranks): 0.029623310328603682\n",
      "negative examples data (should have high ranks): 0.016316644487466586\n",
      "\n",
      "Comparison of topic reputation (user):\n",
      "all data, rank <10: 20.14859437751004\n",
      "all data, rank >10: 10.191413705650117\n",
      "ground truth data (should have low ranks): 27.645244215938302\n",
      "negative examples data (should have high ranks): 10.271915375508312\n",
      "\n",
      "Comparison of asker reputation (not used as feature itself):\n",
      "all data, rank <10: 4736.423694779117\n",
      "all data, rank >10: 566.3370198969853\n",
      "ground truth data (should have low ranks): 738.6940874035989\n",
      "negative examples data (should have high ranks): 671.5091882431667\n",
      "INTERPRETATION: the random forests selects questions from popular askers - why? It does not seem to be a feature that discriminates the ground truth from the negative data, because there the difference is not very significant.\n",
      "\n"
     ]
    }
   ],
   "source": [
    "print(\"Comparison of ranks of compared data:\")\n",
    "print(\"all data, rank <10:\", np.mean(low_rank_df[\"rank\"]))\n",
    "print(\"all data, rank >10:\", np.mean(high_rank_df[\"rank\"]))\n",
    "print(\"\")\n",
    "print(\"Comparison of topic affinity (user:\")\n",
    "print(\"all data, rank <10:\", np.mean(low_rank_df[\"topic_affinity_user\"]))\n",
    "print(\"all data, rank >10:\", np.mean(high_rank_df[\"topic_affinity_user\"]))\n",
    "print(\"ground truth data (should have low ranks):\", np.mean(data_gt[\"topic_affinity_user\"]))\n",
    "print(\"negative examples data (should have high ranks):\", np.mean(data_neg[\"topic_affinity_user\"]))\n",
    "print(\"\")\n",
    "print(\"Comparison of topic reputation (user):\")\n",
    "print(\"all data, rank <10:\", np.mean(low_rank_df[\"topic_reputation_user\"]))\n",
    "print(\"all data, rank >10:\", np.mean(high_rank_df[\"topic_reputation_user\"]))\n",
    "print(\"ground truth data (should have low ranks):\", np.mean(data_gt[\"topic_reputation_user\"]))\n",
    "print(\"negative examples data (should have high ranks):\", np.mean(data_neg[\"topic_reputation_user\"]))\n",
    "print(\"\")\n",
    "print(\"Comparison of asker reputation (not used as feature itself):\")\n",
    "print(\"all data, rank <10:\", np.mean(low_rank_df[\"reputation_asker\"]))\n",
    "print(\"all data, rank >10:\", np.mean(high_rank_df[\"reputation_asker\"]))\n",
    "print(\"ground truth data (should have low ranks):\", np.mean(data_gt[\"reputation_asker\"]))\n",
    "print(\"negative examples data (should have high ranks):\", np.mean(data_neg[\"reputation_asker\"]))\n",
    "print(\"INTERPRETATION: the random forests selects questions from popular askers - why? It does not seem to be a feature that discriminates the ground truth from the negative data, because there the difference is not very significant.\")\n",
    "print(\"\")"
   ]
  },
  {
   "cell_type": "markdown",
   "metadata": {},
   "source": [
    "### Explore other features of the questions which are not in train dataset but just in database"
   ]
  },
  {
   "cell_type": "code",
   "execution_count": 28,
   "metadata": {},
   "outputs": [],
   "source": [
    "import psycopg2\n",
    "import sqlalchemy\n",
    "import matplotlib.pyplot as plt\n",
    "import seaborn as sns\n",
    "sns.set()\n",
    "from scipy.stats import expon"
   ]
  },
  {
   "cell_type": "code",
   "execution_count": 29,
   "metadata": {},
   "outputs": [],
   "source": [
    "from sqlalchemy import create_engine\n",
    "\n",
    "postgres_str = ('postgresql://localhost/crossvalidated')\n",
    "cnx = create_engine(postgres_str)"
   ]
  },
  {
   "cell_type": "code",
   "execution_count": 30,
   "metadata": {},
   "outputs": [],
   "source": [
    "often_recommended_questions = pd.read_sql_query('''SELECT * FROM Posts WHERE Id IN {};'''.format(tuple(low_rank_ids)), cnx)"
   ]
  },
  {
   "cell_type": "code",
   "execution_count": 31,
   "metadata": {},
   "outputs": [
    {
     "data": {
      "text/html": [
       "<div>\n",
       "<style scoped>\n",
       "    .dataframe tbody tr th:only-of-type {\n",
       "        vertical-align: middle;\n",
       "    }\n",
       "\n",
       "    .dataframe tbody tr th {\n",
       "        vertical-align: top;\n",
       "    }\n",
       "\n",
       "    .dataframe thead th {\n",
       "        text-align: right;\n",
       "    }\n",
       "</style>\n",
       "<table border=\"1\" class=\"dataframe\">\n",
       "  <thead>\n",
       "    <tr style=\"text-align: right;\">\n",
       "      <th></th>\n",
       "      <th>id</th>\n",
       "      <th>posttypeid</th>\n",
       "      <th>acceptedanswerid</th>\n",
       "      <th>parentid</th>\n",
       "      <th>creationdate</th>\n",
       "      <th>score</th>\n",
       "      <th>viewcount</th>\n",
       "      <th>body</th>\n",
       "      <th>owneruserid</th>\n",
       "      <th>lasteditoruserid</th>\n",
       "      <th>...</th>\n",
       "      <th>lasteditdate</th>\n",
       "      <th>lastactivitydate</th>\n",
       "      <th>title</th>\n",
       "      <th>tags</th>\n",
       "      <th>answercount</th>\n",
       "      <th>commentcount</th>\n",
       "      <th>favoritecount</th>\n",
       "      <th>closeddate</th>\n",
       "      <th>communityowneddate</th>\n",
       "      <th>jsonfield</th>\n",
       "    </tr>\n",
       "  </thead>\n",
       "  <tbody>\n",
       "    <tr>\n",
       "      <th>0</th>\n",
       "      <td>131255</td>\n",
       "      <td>1</td>\n",
       "      <td>133385.0</td>\n",
       "      <td>None</td>\n",
       "      <td>2015-01-05 12:14:33.273</td>\n",
       "      <td>48</td>\n",
       "      <td>22034</td>\n",
       "      <td>&lt;p&gt;This is a question in general, not specific...</td>\n",
       "      <td>29600</td>\n",
       "      <td>NaN</td>\n",
       "      <td>...</td>\n",
       "      <td>NaT</td>\n",
       "      <td>2017-11-28 02:45:38.693</td>\n",
       "      <td>Class imbalance in Supervised Machine Learning</td>\n",
       "      <td>&lt;machine-learning&gt;&lt;unbalanced-classes&gt;&lt;supervi...</td>\n",
       "      <td>4</td>\n",
       "      <td>0</td>\n",
       "      <td>47.0</td>\n",
       "      <td>NaT</td>\n",
       "      <td>NaT</td>\n",
       "      <td>None</td>\n",
       "    </tr>\n",
       "    <tr>\n",
       "      <th>1</th>\n",
       "      <td>131281</td>\n",
       "      <td>1</td>\n",
       "      <td>131337.0</td>\n",
       "      <td>None</td>\n",
       "      <td>2015-01-05 15:34:09.797</td>\n",
       "      <td>39</td>\n",
       "      <td>34159</td>\n",
       "      <td>&lt;p&gt;What would be the approach to use Dynamic T...</td>\n",
       "      <td>54659</td>\n",
       "      <td>29949.0</td>\n",
       "      <td>...</td>\n",
       "      <td>2018-08-23 22:20:24.027</td>\n",
       "      <td>2019-03-25 13:18:40.437</td>\n",
       "      <td>Dynamic Time Warping Clustering</td>\n",
       "      <td>&lt;time-series&gt;&lt;clustering&gt;</td>\n",
       "      <td>5</td>\n",
       "      <td>7</td>\n",
       "      <td>56.0</td>\n",
       "      <td>NaT</td>\n",
       "      <td>NaT</td>\n",
       "      <td>None</td>\n",
       "    </tr>\n",
       "    <tr>\n",
       "      <th>2</th>\n",
       "      <td>131285</td>\n",
       "      <td>1</td>\n",
       "      <td>131298.0</td>\n",
       "      <td>None</td>\n",
       "      <td>2015-01-05 16:05:29.553</td>\n",
       "      <td>7</td>\n",
       "      <td>1406</td>\n",
       "      <td>&lt;p&gt;i just finished developing an ARMAX model w...</td>\n",
       "      <td>64037</td>\n",
       "      <td>1352.0</td>\n",
       "      <td>...</td>\n",
       "      <td>2016-05-23 10:08:08.550</td>\n",
       "      <td>2016-05-23 10:08:08.550</td>\n",
       "      <td>Review of Box-Jenkins methodology</td>\n",
       "      <td>&lt;time-series&gt;&lt;python&gt;&lt;arma&gt;&lt;methodology&gt;&lt;box-j...</td>\n",
       "      <td>1</td>\n",
       "      <td>6</td>\n",
       "      <td>4.0</td>\n",
       "      <td>NaT</td>\n",
       "      <td>NaT</td>\n",
       "      <td>None</td>\n",
       "    </tr>\n",
       "    <tr>\n",
       "      <th>3</th>\n",
       "      <td>131286</td>\n",
       "      <td>1</td>\n",
       "      <td>131306.0</td>\n",
       "      <td>None</td>\n",
       "      <td>2015-01-05 16:07:26.117</td>\n",
       "      <td>1</td>\n",
       "      <td>273</td>\n",
       "      <td>&lt;p&gt;I have a dataset of around 30,000 people wh...</td>\n",
       "      <td>28550</td>\n",
       "      <td>NaN</td>\n",
       "      <td>...</td>\n",
       "      <td>NaT</td>\n",
       "      <td>2015-12-23 16:11:49.470</td>\n",
       "      <td>What software could fit an alternative specifi...</td>\n",
       "      <td>&lt;random-effects-model&gt;&lt;software&gt;&lt;mlogit&gt;</td>\n",
       "      <td>1</td>\n",
       "      <td>1</td>\n",
       "      <td>NaN</td>\n",
       "      <td>NaT</td>\n",
       "      <td>NaT</td>\n",
       "      <td>None</td>\n",
       "    </tr>\n",
       "    <tr>\n",
       "      <th>4</th>\n",
       "      <td>131360</td>\n",
       "      <td>1</td>\n",
       "      <td>132517.0</td>\n",
       "      <td>None</td>\n",
       "      <td>2015-01-06 01:55:24.823</td>\n",
       "      <td>-1</td>\n",
       "      <td>117</td>\n",
       "      <td>&lt;p&gt;What is the usefulness of Rosenthal inequal...</td>\n",
       "      <td>44677</td>\n",
       "      <td>44677.0</td>\n",
       "      <td>...</td>\n",
       "      <td>2015-01-07 01:26:05.270</td>\n",
       "      <td>2015-01-07 10:06:56.720</td>\n",
       "      <td>question about a Rosenthal inequality</td>\n",
       "      <td>&lt;pdf&gt;&lt;kernel-smoothing&gt;&lt;nonparametric-density&gt;</td>\n",
       "      <td>1</td>\n",
       "      <td>3</td>\n",
       "      <td>NaN</td>\n",
       "      <td>NaT</td>\n",
       "      <td>NaT</td>\n",
       "      <td>None</td>\n",
       "    </tr>\n",
       "  </tbody>\n",
       "</table>\n",
       "<p>5 rows × 21 columns</p>\n",
       "</div>"
      ],
      "text/plain": [
       "       id  posttypeid  acceptedanswerid parentid            creationdate  \\\n",
       "0  131255           1          133385.0     None 2015-01-05 12:14:33.273   \n",
       "1  131281           1          131337.0     None 2015-01-05 15:34:09.797   \n",
       "2  131285           1          131298.0     None 2015-01-05 16:05:29.553   \n",
       "3  131286           1          131306.0     None 2015-01-05 16:07:26.117   \n",
       "4  131360           1          132517.0     None 2015-01-06 01:55:24.823   \n",
       "\n",
       "   score  viewcount                                               body  \\\n",
       "0     48      22034  <p>This is a question in general, not specific...   \n",
       "1     39      34159  <p>What would be the approach to use Dynamic T...   \n",
       "2      7       1406  <p>i just finished developing an ARMAX model w...   \n",
       "3      1        273  <p>I have a dataset of around 30,000 people wh...   \n",
       "4     -1        117  <p>What is the usefulness of Rosenthal inequal...   \n",
       "\n",
       "   owneruserid  lasteditoruserid    ...               lasteditdate  \\\n",
       "0        29600               NaN    ...                        NaT   \n",
       "1        54659           29949.0    ...    2018-08-23 22:20:24.027   \n",
       "2        64037            1352.0    ...    2016-05-23 10:08:08.550   \n",
       "3        28550               NaN    ...                        NaT   \n",
       "4        44677           44677.0    ...    2015-01-07 01:26:05.270   \n",
       "\n",
       "         lastactivitydate                                              title  \\\n",
       "0 2017-11-28 02:45:38.693     Class imbalance in Supervised Machine Learning   \n",
       "1 2019-03-25 13:18:40.437                    Dynamic Time Warping Clustering   \n",
       "2 2016-05-23 10:08:08.550                  Review of Box-Jenkins methodology   \n",
       "3 2015-12-23 16:11:49.470  What software could fit an alternative specifi...   \n",
       "4 2015-01-07 10:06:56.720              question about a Rosenthal inequality   \n",
       "\n",
       "                                                tags answercount  \\\n",
       "0  <machine-learning><unbalanced-classes><supervi...           4   \n",
       "1                          <time-series><clustering>           5   \n",
       "2  <time-series><python><arma><methodology><box-j...           1   \n",
       "3           <random-effects-model><software><mlogit>           1   \n",
       "4     <pdf><kernel-smoothing><nonparametric-density>           1   \n",
       "\n",
       "   commentcount  favoritecount  closeddate communityowneddate jsonfield  \n",
       "0             0           47.0         NaT                NaT      None  \n",
       "1             7           56.0         NaT                NaT      None  \n",
       "2             6            4.0         NaT                NaT      None  \n",
       "3             1            NaN         NaT                NaT      None  \n",
       "4             3            NaN         NaT                NaT      None  \n",
       "\n",
       "[5 rows x 21 columns]"
      ]
     },
     "execution_count": 31,
     "metadata": {},
     "output_type": "execute_result"
    }
   ],
   "source": [
    "often_recommended_questions.head()"
   ]
  },
  {
   "cell_type": "code",
   "execution_count": 32,
   "metadata": {},
   "outputs": [],
   "source": [
    "hardly_recommended_questions = pd.read_sql_query('''SELECT * FROM Posts WHERE Id IN {};'''.format(tuple(high_rank_ids)), cnx)"
   ]
  },
  {
   "cell_type": "code",
   "execution_count": 33,
   "metadata": {},
   "outputs": [
    {
     "data": {
      "text/html": [
       "<div>\n",
       "<style scoped>\n",
       "    .dataframe tbody tr th:only-of-type {\n",
       "        vertical-align: middle;\n",
       "    }\n",
       "\n",
       "    .dataframe tbody tr th {\n",
       "        vertical-align: top;\n",
       "    }\n",
       "\n",
       "    .dataframe thead th {\n",
       "        text-align: right;\n",
       "    }\n",
       "</style>\n",
       "<table border=\"1\" class=\"dataframe\">\n",
       "  <thead>\n",
       "    <tr style=\"text-align: right;\">\n",
       "      <th></th>\n",
       "      <th>id</th>\n",
       "      <th>posttypeid</th>\n",
       "      <th>acceptedanswerid</th>\n",
       "      <th>parentid</th>\n",
       "      <th>creationdate</th>\n",
       "      <th>score</th>\n",
       "      <th>viewcount</th>\n",
       "      <th>body</th>\n",
       "      <th>owneruserid</th>\n",
       "      <th>lasteditoruserid</th>\n",
       "      <th>...</th>\n",
       "      <th>lasteditdate</th>\n",
       "      <th>lastactivitydate</th>\n",
       "      <th>title</th>\n",
       "      <th>tags</th>\n",
       "      <th>answercount</th>\n",
       "      <th>commentcount</th>\n",
       "      <th>favoritecount</th>\n",
       "      <th>closeddate</th>\n",
       "      <th>communityowneddate</th>\n",
       "      <th>jsonfield</th>\n",
       "    </tr>\n",
       "  </thead>\n",
       "  <tbody>\n",
       "    <tr>\n",
       "      <th>0</th>\n",
       "      <td>130866</td>\n",
       "      <td>1</td>\n",
       "      <td>NaN</td>\n",
       "      <td>None</td>\n",
       "      <td>2015-01-01 07:19:53.073</td>\n",
       "      <td>1</td>\n",
       "      <td>65</td>\n",
       "      <td>&lt;p&gt;The beautiful indie game Fez has numerous p...</td>\n",
       "      <td>64710</td>\n",
       "      <td>NaN</td>\n",
       "      <td>...</td>\n",
       "      <td>NaT</td>\n",
       "      <td>2015-01-01 07:19:53.073</td>\n",
       "      <td>Confidence in a rank ordering (Fez)</td>\n",
       "      <td>&lt;confidence-interval&gt;&lt;ranking&gt;</td>\n",
       "      <td>0</td>\n",
       "      <td>1</td>\n",
       "      <td>NaN</td>\n",
       "      <td>NaT</td>\n",
       "      <td>NaT</td>\n",
       "      <td>None</td>\n",
       "    </tr>\n",
       "    <tr>\n",
       "      <th>1</th>\n",
       "      <td>130908</td>\n",
       "      <td>1</td>\n",
       "      <td>NaN</td>\n",
       "      <td>None</td>\n",
       "      <td>2015-01-01 20:39:33.663</td>\n",
       "      <td>2</td>\n",
       "      <td>287</td>\n",
       "      <td>&lt;p&gt;&lt;strong&gt;Just a quick clarification:&lt;/strong...</td>\n",
       "      <td>64734</td>\n",
       "      <td>NaN</td>\n",
       "      <td>...</td>\n",
       "      <td>NaT</td>\n",
       "      <td>2015-01-01 20:39:33.663</td>\n",
       "      <td>Which stats model to predict rank when partici...</td>\n",
       "      <td>&lt;regression&gt;&lt;repeated-measures&gt;&lt;ranking&gt;</td>\n",
       "      <td>0</td>\n",
       "      <td>3</td>\n",
       "      <td>NaN</td>\n",
       "      <td>NaT</td>\n",
       "      <td>NaT</td>\n",
       "      <td>None</td>\n",
       "    </tr>\n",
       "    <tr>\n",
       "      <th>2</th>\n",
       "      <td>130911</td>\n",
       "      <td>1</td>\n",
       "      <td>NaN</td>\n",
       "      <td>None</td>\n",
       "      <td>2015-01-01 21:23:09.430</td>\n",
       "      <td>0</td>\n",
       "      <td>1747</td>\n",
       "      <td>&lt;p&gt;How do you see pair-wise comparisons for ch...</td>\n",
       "      <td>64400</td>\n",
       "      <td>NaN</td>\n",
       "      <td>...</td>\n",
       "      <td>NaT</td>\n",
       "      <td>2015-01-01 21:23:09.430</td>\n",
       "      <td>Pair-wise comparisons for chi square test SPSS?</td>\n",
       "      <td>&lt;spss&gt;&lt;chi-squared&gt;</td>\n",
       "      <td>0</td>\n",
       "      <td>4</td>\n",
       "      <td>NaN</td>\n",
       "      <td>NaT</td>\n",
       "      <td>NaT</td>\n",
       "      <td>None</td>\n",
       "    </tr>\n",
       "    <tr>\n",
       "      <th>3</th>\n",
       "      <td>130912</td>\n",
       "      <td>1</td>\n",
       "      <td>NaN</td>\n",
       "      <td>None</td>\n",
       "      <td>2015-01-01 21:26:09.987</td>\n",
       "      <td>3</td>\n",
       "      <td>177</td>\n",
       "      <td>&lt;p&gt;I am trying to derive the concentrated log-...</td>\n",
       "      <td>64735</td>\n",
       "      <td>64735.0</td>\n",
       "      <td>...</td>\n",
       "      <td>2015-01-02 16:03:28.327</td>\n",
       "      <td>2015-01-02 16:03:28.327</td>\n",
       "      <td>Deriving the log-likelihood with heteroskedast...</td>\n",
       "      <td>&lt;regression&gt;&lt;maximum-likelihood&gt;&lt;instrumental-...</td>\n",
       "      <td>0</td>\n",
       "      <td>6</td>\n",
       "      <td>2.0</td>\n",
       "      <td>NaT</td>\n",
       "      <td>NaT</td>\n",
       "      <td>None</td>\n",
       "    </tr>\n",
       "    <tr>\n",
       "      <th>4</th>\n",
       "      <td>130926</td>\n",
       "      <td>1</td>\n",
       "      <td>NaN</td>\n",
       "      <td>None</td>\n",
       "      <td>2015-01-02 00:10:42.583</td>\n",
       "      <td>2</td>\n",
       "      <td>798</td>\n",
       "      <td>&lt;p&gt;You can do gibbs sampling from a deep belie...</td>\n",
       "      <td>64745</td>\n",
       "      <td>64745.0</td>\n",
       "      <td>...</td>\n",
       "      <td>2015-01-02 00:49:10.263</td>\n",
       "      <td>2016-01-27 08:15:50.450</td>\n",
       "      <td>Can you sample from an autoencoder?</td>\n",
       "      <td>&lt;deep-learning&gt;</td>\n",
       "      <td>2</td>\n",
       "      <td>2</td>\n",
       "      <td>NaN</td>\n",
       "      <td>NaT</td>\n",
       "      <td>NaT</td>\n",
       "      <td>None</td>\n",
       "    </tr>\n",
       "  </tbody>\n",
       "</table>\n",
       "<p>5 rows × 21 columns</p>\n",
       "</div>"
      ],
      "text/plain": [
       "       id  posttypeid  acceptedanswerid parentid            creationdate  \\\n",
       "0  130866           1               NaN     None 2015-01-01 07:19:53.073   \n",
       "1  130908           1               NaN     None 2015-01-01 20:39:33.663   \n",
       "2  130911           1               NaN     None 2015-01-01 21:23:09.430   \n",
       "3  130912           1               NaN     None 2015-01-01 21:26:09.987   \n",
       "4  130926           1               NaN     None 2015-01-02 00:10:42.583   \n",
       "\n",
       "   score  viewcount                                               body  \\\n",
       "0      1         65  <p>The beautiful indie game Fez has numerous p...   \n",
       "1      2        287  <p><strong>Just a quick clarification:</strong...   \n",
       "2      0       1747  <p>How do you see pair-wise comparisons for ch...   \n",
       "3      3        177  <p>I am trying to derive the concentrated log-...   \n",
       "4      2        798  <p>You can do gibbs sampling from a deep belie...   \n",
       "\n",
       "   owneruserid  lasteditoruserid    ...               lasteditdate  \\\n",
       "0        64710               NaN    ...                        NaT   \n",
       "1        64734               NaN    ...                        NaT   \n",
       "2        64400               NaN    ...                        NaT   \n",
       "3        64735           64735.0    ...    2015-01-02 16:03:28.327   \n",
       "4        64745           64745.0    ...    2015-01-02 00:49:10.263   \n",
       "\n",
       "         lastactivitydate                                              title  \\\n",
       "0 2015-01-01 07:19:53.073                Confidence in a rank ordering (Fez)   \n",
       "1 2015-01-01 20:39:33.663  Which stats model to predict rank when partici...   \n",
       "2 2015-01-01 21:23:09.430    Pair-wise comparisons for chi square test SPSS?   \n",
       "3 2015-01-02 16:03:28.327  Deriving the log-likelihood with heteroskedast...   \n",
       "4 2016-01-27 08:15:50.450                Can you sample from an autoencoder?   \n",
       "\n",
       "                                                tags answercount  \\\n",
       "0                     <confidence-interval><ranking>           0   \n",
       "1           <regression><repeated-measures><ranking>           0   \n",
       "2                                <spss><chi-squared>           0   \n",
       "3  <regression><maximum-likelihood><instrumental-...           0   \n",
       "4                                    <deep-learning>           2   \n",
       "\n",
       "   commentcount  favoritecount  closeddate communityowneddate jsonfield  \n",
       "0             1            NaN         NaT                NaT      None  \n",
       "1             3            NaN         NaT                NaT      None  \n",
       "2             4            NaN         NaT                NaT      None  \n",
       "3             6            2.0         NaT                NaT      None  \n",
       "4             2            NaN         NaT                NaT      None  \n",
       "\n",
       "[5 rows x 21 columns]"
      ]
     },
     "execution_count": 33,
     "metadata": {},
     "output_type": "execute_result"
    }
   ],
   "source": [
    "hardly_recommended_questions.head()"
   ]
  },
  {
   "cell_type": "markdown",
   "metadata": {},
   "source": [
    "### Compare features between often and hardly recommended questions"
   ]
  },
  {
   "cell_type": "code",
   "execution_count": 34,
   "metadata": {
    "scrolled": true
   },
   "outputs": [
    {
     "name": "stdout",
     "output_type": "stream",
     "text": [
      "  \n",
      "id  - Mean of often  recommended questions:  160175.36662286465\n",
      "id  - Mean of hardly recommended questions:  158878.45254334784\n",
      "  \n",
      "posttypeid  - Mean of often  recommended questions:  1.0\n",
      "posttypeid  - Mean of hardly recommended questions:  1.0\n",
      "  \n",
      "acceptedanswerid  - Mean of often  recommended questions:  95901.51379763469\n",
      "acceptedanswerid  - Mean of hardly recommended questions:  23537.769085380885\n",
      "  \n",
      "parentid  - Mean of often  recommended questions:  0.0\n",
      "parentid  - Mean of hardly recommended questions:  0.0\n",
      "  \n",
      "  \n",
      "score  - Mean of often  recommended questions:  3.4730617608409986\n",
      "score  - Mean of hardly recommended questions:  2.4476949626099103\n",
      "  \n",
      "viewcount  - Mean of often  recommended questions:  2076.4283837056505\n",
      "viewcount  - Mean of hardly recommended questions:  1282.0810255567426\n",
      "  \n",
      "  \n",
      "owneruserid  - Mean of often  recommended questions:  55442.87385019711\n",
      "owneruserid  - Mean of hardly recommended questions:  63170.1410140521\n",
      "  \n",
      "lasteditoruserid  - Mean of often  recommended questions:  21261.64914586071\n",
      "lasteditoruserid  - Mean of hardly recommended questions:  23161.147012901634\n",
      "  \n",
      "  \n"
     ]
    },
    {
     "ename": "ValueError",
     "evalue": "Cannot add integral value to Timestamp without freq.",
     "output_type": "error",
     "traceback": [
      "\u001b[0;31m---------------------------------------------------------------------------\u001b[0m",
      "\u001b[0;31mValueError\u001b[0m                                Traceback (most recent call last)",
      "\u001b[0;32m<ipython-input-34-ebd03a4adfe5>\u001b[0m in \u001b[0;36m<module>\u001b[0;34m\u001b[0m\n\u001b[1;32m      4\u001b[0m     \u001b[0;32mtry\u001b[0m\u001b[0;34m:\u001b[0m\u001b[0;34m\u001b[0m\u001b[0;34m\u001b[0m\u001b[0m\n\u001b[1;32m      5\u001b[0m         \u001b[0mprint\u001b[0m\u001b[0;34m(\u001b[0m\u001b[0;34m\"  \"\u001b[0m\u001b[0;34m)\u001b[0m\u001b[0;34m\u001b[0m\u001b[0;34m\u001b[0m\u001b[0m\n\u001b[0;32m----> 6\u001b[0;31m         \u001b[0mprint\u001b[0m\u001b[0;34m(\u001b[0m\u001b[0mc\u001b[0m\u001b[0;34m,\u001b[0m \u001b[0;34m\" - Mean of often  recommended questions: \"\u001b[0m\u001b[0;34m,\u001b[0m \u001b[0mnp\u001b[0m\u001b[0;34m.\u001b[0m\u001b[0mnanmean\u001b[0m\u001b[0;34m(\u001b[0m\u001b[0moften_recommended_questions\u001b[0m\u001b[0;34m[\u001b[0m\u001b[0mc\u001b[0m\u001b[0;34m]\u001b[0m\u001b[0;34m.\u001b[0m\u001b[0mvalues\u001b[0m\u001b[0;34m)\u001b[0m\u001b[0;34m)\u001b[0m\u001b[0;34m\u001b[0m\u001b[0;34m\u001b[0m\u001b[0m\n\u001b[0m\u001b[1;32m      7\u001b[0m         \u001b[0mprint\u001b[0m\u001b[0;34m(\u001b[0m\u001b[0mc\u001b[0m\u001b[0;34m,\u001b[0m \u001b[0;34m\" - Mean of hardly recommended questions: \"\u001b[0m\u001b[0;34m,\u001b[0m \u001b[0mnp\u001b[0m\u001b[0;34m.\u001b[0m\u001b[0mnanmean\u001b[0m\u001b[0;34m(\u001b[0m\u001b[0mhardly_recommended_questions\u001b[0m\u001b[0;34m[\u001b[0m\u001b[0mc\u001b[0m\u001b[0;34m]\u001b[0m\u001b[0;34m.\u001b[0m\u001b[0mvalues\u001b[0m\u001b[0;34m)\u001b[0m\u001b[0;34m)\u001b[0m\u001b[0;34m\u001b[0m\u001b[0;34m\u001b[0m\u001b[0m\n\u001b[1;32m      8\u001b[0m     \u001b[0;32mexcept\u001b[0m \u001b[0mTypeError\u001b[0m\u001b[0;34m:\u001b[0m\u001b[0;34m\u001b[0m\u001b[0;34m\u001b[0m\u001b[0m\n",
      "\u001b[0;32m~/anaconda3/lib/python3.6/site-packages/numpy/lib/nanfunctions.py\u001b[0m in \u001b[0;36mnanmean\u001b[0;34m(a, axis, dtype, out, keepdims)\u001b[0m\n\u001b[1;32m    862\u001b[0m \u001b[0;34m\u001b[0m\u001b[0m\n\u001b[1;32m    863\u001b[0m     \u001b[0mcnt\u001b[0m \u001b[0;34m=\u001b[0m \u001b[0mnp\u001b[0m\u001b[0;34m.\u001b[0m\u001b[0msum\u001b[0m\u001b[0;34m(\u001b[0m\u001b[0;34m~\u001b[0m\u001b[0mmask\u001b[0m\u001b[0;34m,\u001b[0m \u001b[0maxis\u001b[0m\u001b[0;34m=\u001b[0m\u001b[0maxis\u001b[0m\u001b[0;34m,\u001b[0m \u001b[0mdtype\u001b[0m\u001b[0;34m=\u001b[0m\u001b[0mnp\u001b[0m\u001b[0;34m.\u001b[0m\u001b[0mintp\u001b[0m\u001b[0;34m,\u001b[0m \u001b[0mkeepdims\u001b[0m\u001b[0;34m=\u001b[0m\u001b[0mkeepdims\u001b[0m\u001b[0;34m)\u001b[0m\u001b[0;34m\u001b[0m\u001b[0;34m\u001b[0m\u001b[0m\n\u001b[0;32m--> 864\u001b[0;31m     \u001b[0mtot\u001b[0m \u001b[0;34m=\u001b[0m \u001b[0mnp\u001b[0m\u001b[0;34m.\u001b[0m\u001b[0msum\u001b[0m\u001b[0;34m(\u001b[0m\u001b[0marr\u001b[0m\u001b[0;34m,\u001b[0m \u001b[0maxis\u001b[0m\u001b[0;34m=\u001b[0m\u001b[0maxis\u001b[0m\u001b[0;34m,\u001b[0m \u001b[0mdtype\u001b[0m\u001b[0;34m=\u001b[0m\u001b[0mdtype\u001b[0m\u001b[0;34m,\u001b[0m \u001b[0mout\u001b[0m\u001b[0;34m=\u001b[0m\u001b[0mout\u001b[0m\u001b[0;34m,\u001b[0m \u001b[0mkeepdims\u001b[0m\u001b[0;34m=\u001b[0m\u001b[0mkeepdims\u001b[0m\u001b[0;34m)\u001b[0m\u001b[0;34m\u001b[0m\u001b[0;34m\u001b[0m\u001b[0m\n\u001b[0m\u001b[1;32m    865\u001b[0m     \u001b[0mavg\u001b[0m \u001b[0;34m=\u001b[0m \u001b[0m_divide_by_count\u001b[0m\u001b[0;34m(\u001b[0m\u001b[0mtot\u001b[0m\u001b[0;34m,\u001b[0m \u001b[0mcnt\u001b[0m\u001b[0;34m,\u001b[0m \u001b[0mout\u001b[0m\u001b[0;34m=\u001b[0m\u001b[0mout\u001b[0m\u001b[0;34m)\u001b[0m\u001b[0;34m\u001b[0m\u001b[0;34m\u001b[0m\u001b[0m\n\u001b[1;32m    866\u001b[0m \u001b[0;34m\u001b[0m\u001b[0m\n",
      "\u001b[0;32m~/anaconda3/lib/python3.6/site-packages/numpy/core/fromnumeric.py\u001b[0m in \u001b[0;36msum\u001b[0;34m(a, axis, dtype, out, keepdims, initial)\u001b[0m\n\u001b[1;32m   1928\u001b[0m \u001b[0;34m\u001b[0m\u001b[0m\n\u001b[1;32m   1929\u001b[0m     return _wrapreduction(a, np.add, 'sum', axis, dtype, out, keepdims=keepdims,\n\u001b[0;32m-> 1930\u001b[0;31m                           initial=initial)\n\u001b[0m\u001b[1;32m   1931\u001b[0m \u001b[0;34m\u001b[0m\u001b[0m\n\u001b[1;32m   1932\u001b[0m \u001b[0;34m\u001b[0m\u001b[0m\n",
      "\u001b[0;32m~/anaconda3/lib/python3.6/site-packages/numpy/core/fromnumeric.py\u001b[0m in \u001b[0;36m_wrapreduction\u001b[0;34m(obj, ufunc, method, axis, dtype, out, **kwargs)\u001b[0m\n\u001b[1;32m     81\u001b[0m                 \u001b[0;32mreturn\u001b[0m \u001b[0mreduction\u001b[0m\u001b[0;34m(\u001b[0m\u001b[0maxis\u001b[0m\u001b[0;34m=\u001b[0m\u001b[0maxis\u001b[0m\u001b[0;34m,\u001b[0m \u001b[0mout\u001b[0m\u001b[0;34m=\u001b[0m\u001b[0mout\u001b[0m\u001b[0;34m,\u001b[0m \u001b[0;34m**\u001b[0m\u001b[0mpasskwargs\u001b[0m\u001b[0;34m)\u001b[0m\u001b[0;34m\u001b[0m\u001b[0;34m\u001b[0m\u001b[0m\n\u001b[1;32m     82\u001b[0m \u001b[0;34m\u001b[0m\u001b[0m\n\u001b[0;32m---> 83\u001b[0;31m     \u001b[0;32mreturn\u001b[0m \u001b[0mufunc\u001b[0m\u001b[0;34m.\u001b[0m\u001b[0mreduce\u001b[0m\u001b[0;34m(\u001b[0m\u001b[0mobj\u001b[0m\u001b[0;34m,\u001b[0m \u001b[0maxis\u001b[0m\u001b[0;34m,\u001b[0m \u001b[0mdtype\u001b[0m\u001b[0;34m,\u001b[0m \u001b[0mout\u001b[0m\u001b[0;34m,\u001b[0m \u001b[0;34m**\u001b[0m\u001b[0mpasskwargs\u001b[0m\u001b[0;34m)\u001b[0m\u001b[0;34m\u001b[0m\u001b[0;34m\u001b[0m\u001b[0m\n\u001b[0m\u001b[1;32m     84\u001b[0m \u001b[0;34m\u001b[0m\u001b[0m\n\u001b[1;32m     85\u001b[0m \u001b[0;34m\u001b[0m\u001b[0m\n",
      "\u001b[0;32mpandas/_libs/tslibs/timestamps.pyx\u001b[0m in \u001b[0;36mpandas._libs.tslibs.timestamps.Timestamp.__radd__\u001b[0;34m()\u001b[0m\n",
      "\u001b[0;32mpandas/_libs/tslibs/timestamps.pyx\u001b[0m in \u001b[0;36mpandas._libs.tslibs.timestamps._Timestamp.__add__\u001b[0;34m()\u001b[0m\n",
      "\u001b[0;31mValueError\u001b[0m: Cannot add integral value to Timestamp without freq."
     ]
    }
   ],
   "source": [
    "often_recommended_questions = often_recommended_questions.fillna(0)\n",
    "hardly_recommended_questions = hardly_recommended_questions.fillna(0)\n",
    "for c in list(often_recommended_questions.columns):\n",
    "    try:\n",
    "        print(\"  \")\n",
    "        print(c, \" - Mean of often  recommended questions: \", np.nanmean(often_recommended_questions[c].values))\n",
    "        print(c, \" - Mean of hardly recommended questions: \", np.nanmean(hardly_recommended_questions[c].values))\n",
    "    except TypeError:\n",
    "        pass\n",
    "    except AttributeError:\n",
    "        pass"
   ]
  },
  {
   "cell_type": "code",
   "execution_count": 41,
   "metadata": {
    "scrolled": true
   },
   "outputs": [
    {
     "name": "stdout",
     "output_type": "stream",
     "text": [
      "Ratio of nans for often_recommended_questions: 0.392904073587385\n",
      "Ratio of nans for hardly_recommended_questions: 0.8638343331415893\n"
     ]
    }
   ],
   "source": [
    "acceptedAnswer = often_recommended_questions[\"acceptedanswerid\"].values\n",
    "print(\"Ratio of nans for often_recommended_questions:\", sum(acceptedAnswer==0)/len(acceptedAnswer))\n",
    "acceptedAnswer = hardly_recommended_questions[\"acceptedanswerid\"].values\n",
    "print(\"Ratio of nans for hardly_recommended_questions:\", sum(acceptedAnswer==0)/len(acceptedAnswer))"
   ]
  },
  {
   "cell_type": "code",
   "execution_count": 37,
   "metadata": {},
   "outputs": [
    {
     "name": "stdout",
     "output_type": "stream",
     "text": [
      "Average score of often_recommended_questions: 3.4730617608409986\n",
      "Average score of hardly_recommended_questions: 2.4476949626099103\n"
     ]
    }
   ],
   "source": [
    "print(\"Average score of often_recommended_questions:\", np.mean(often_recommended_questions[\"score\"].values))\n",
    "print(\"Average score of hardly_recommended_questions:\", np.mean(hardly_recommended_questions[\"score\"].values))"
   ]
  },
  {
   "cell_type": "code",
   "execution_count": 120,
   "metadata": {
    "scrolled": false
   },
   "outputs": [
    {
     "data": {
      "image/png": "[encoded data removed]",
      "text/plain": [
       "<Figure size 1440x720 with 1 Axes>"
      ]
     },
     "metadata": {},
     "output_type": "display_data"
    },
    {
     "data": {
      "image/png": "[encoded data removed]",
      "text/plain": [
       "<Figure size 1440x720 with 1 Axes>"
      ]
     },
     "metadata": {},
     "output_type": "display_data"
    }
   ],
   "source": [
    "def to_tuple(df, col):\n",
    "    return tuple(df[col].dropna().values.astype(int).tolist())\n",
    "\n",
    "def clean_tags(tags):\n",
    "    tags_clean = []\n",
    "    for t in tags:\n",
    "        new_list = t.split(\"><\")\n",
    "        new = [n.replace(\"<\",\"\").replace(\">\", \"\") for n in new_list]\n",
    "        tags_clean.extend(new)\n",
    "    return tags_clean\n",
    "\n",
    "def get_tags(questions, cutoff=6):\n",
    "    tags = questions[\"tags\"].values\n",
    "    tags_clean = clean_tags(tags)\n",
    "    n, c = np.unique(tags_clean, return_counts=True)\n",
    "    return n[c>=cutoff]\n",
    "\n",
    "def get_most_tags(vals, num=10):\n",
    "    tags = vals[\"tags\"].values\n",
    "    tags_clean = clean_tags(tags)\n",
    "    uni, c = np.unique(tags_clean, return_counts=True)\n",
    "    inds = np.argsort(c)\n",
    "    most_often = uni[inds[-num:]]\n",
    "    most_often_c = c[inds[-num:]]\n",
    "    return most_often, most_often_c\n",
    "\n",
    "def plot_tags(tags_often, counts, title):\n",
    "    inds = np.arange(len(counts))\n",
    "    plt.figure(figsize=(20,10))\n",
    "    plt.bar(inds, counts)\n",
    "    plt.xticks(inds, tags_often)\n",
    "    plt.title(title)\n",
    "    plt.show()\n",
    "\n",
    "def compare_tags(vals_1, vals_2):\n",
    "    tags_often, counts_often = get_most_tags(vals_1)\n",
    "    plot_tags(tags_often, counts_often, \"tags distribution for low rank\")\n",
    "    tags_hardly, counts_hardly = get_most_tags(vals_2)\n",
    "    plot_tags(tags_hardly, counts_hardly, \"tags distribution for high rank\")\n",
    "    \n",
    "        \n",
    "compare_tags(often_recommended_questions, hardly_recommended_questions )"
   ]
  },
  {
   "cell_type": "code",
   "execution_count": 121,
   "metadata": {},
   "outputs": [
    {
     "name": "stdout",
     "output_type": "stream",
     "text": [
      "Tags that are in in often recommended questions but not in rest:\n",
      "filter\n",
      "java\n"
     ]
    }
   ],
   "source": [
    "tags_often = get_tags(often_recommended_questions, cutoff=3)\n",
    "tags_hardly = get_tags(hardly_recommended_questions, cutoff = 10)\n",
    "print(\"Tags that are in in often recommended questions but not in rest:\")\n",
    "for t in tags_often:\n",
    "    if t not in tags_hardly:\n",
    "        print(t)"
   ]
  },
  {
   "cell_type": "markdown",
   "metadata": {},
   "source": [
    "## Do the same for all negative data --> correlations"
   ]
  },
  {
   "cell_type": "code",
   "execution_count": 6,
   "metadata": {},
   "outputs": [
    {
     "name": "stdout",
     "output_type": "stream",
     "text": [
      "12761\n",
      "384\n",
      "12546\n"
     ]
    }
   ],
   "source": [
    "# Get the ids which are only in the negative examples, not in the positive\n",
    "data_neg_ids = np.unique(data_neg[\"id\"].values)\n",
    "print(len(data_neg_ids))\n",
    "data_gt_ids = np.unique(data_gt[\"id\"].values)\n",
    "print(len(data_gt_ids))\n",
    "neg_not_gt = [i for i in data_neg_ids if not i in data_gt_ids]\n",
    "print(len(neg_not_gt))"
   ]
  },
  {
   "cell_type": "code",
   "execution_count": 7,
   "metadata": {},
   "outputs": [],
   "source": [
    "data_neg_filtered = data_neg[data_neg[\"id\"].isin(neg_not_gt)]\n",
    "data_neg_filtered = data_neg_filtered[[\"id\", \"rank\"]]\n",
    "data_neg_filtered = data_neg_filtered.groupby(\"id\").agg({\"rank\":\"mean\"}).reset_index()"
   ]
  },
  {
   "cell_type": "code",
   "execution_count": 8,
   "metadata": {
    "scrolled": true
   },
   "outputs": [],
   "source": [
    "post_data = pd.read_sql_query(''' SELECT * FROM Posts WHERE Id IN {};'''.format(tuple(neg_not_gt)), cnx)"
   ]
  },
  {
   "cell_type": "code",
   "execution_count": 9,
   "metadata": {},
   "outputs": [],
   "source": [
    "post_data_rank = pd.merge(post_data, data_neg_filtered, how=\"left\")"
   ]
  },
  {
   "cell_type": "code",
   "execution_count": 10,
   "metadata": {},
   "outputs": [
    {
     "name": "stdout",
     "output_type": "stream",
     "text": [
      "12546\n"
     ]
    }
   ],
   "source": [
    "print(len(post_data_rank))"
   ]
  },
  {
   "cell_type": "code",
   "execution_count": 23,
   "metadata": {},
   "outputs": [
    {
     "name": "stdout",
     "output_type": "stream",
     "text": [
      "id :  0.031839421041599744\n",
      "posttypeid :  nan\n",
      "acceptedanswerid :  -0.2083671559168172\n",
      "parentid :  nan\n",
      "score :  -0.03717518426452321\n",
      "viewcount :  0.0012135053972158825\n",
      "owneruserid :  0.25643936314083315\n",
      "lasteditoruserid :  -0.0031449754294247613\n",
      "answercount :  -0.08540433528591045\n",
      "commentcount :  -0.023378439182014255\n",
      "favoritecount :  -0.05670596942488288\n",
      "jsonfield :  nan\n",
      "rank :  1.0\n"
     ]
    }
   ],
   "source": [
    "post_data_rank = post_data_rank.fillna(0)\n",
    "for c in list(post_data_rank.columns):\n",
    "    try:\n",
    "        corr = pearsonr(post_data_rank[c].sample(n=1000, random_state=2), post_data_rank[\"rank\"].sample(n=1000, random_state=2))\n",
    "        print(c, \": \", corr[0])\n",
    "    except TypeError:\n",
    "        pass\n",
    "    except AttributeError:\n",
    "        pass\n",
    "    except ValueError:\n",
    "        pass"
   ]
  },
  {
   "cell_type": "markdown",
   "metadata": {},
   "source": [
    "## Possible problem: many of the ground truth questions also appear in neg data"
   ]
  },
  {
   "cell_type": "code",
   "execution_count": 129,
   "metadata": {},
   "outputs": [
    {
     "name": "stdout",
     "output_type": "stream",
     "text": [
      "384\n",
      "215\n"
     ]
    }
   ],
   "source": [
    "a = set(data_gt[\"id\"].values)\n",
    "b = set(data_neg[\"id\"].values)\n",
    "print(len(list(a)))\n",
    "print(len(list(a.intersection(b))))"
   ]
  },
  {
   "cell_type": "code",
   "execution_count": 142,
   "metadata": {},
   "outputs": [
    {
     "name": "stdout",
     "output_type": "stream",
     "text": [
      "602\n",
      "217\n",
      "mean rank of negative examples in intersection 51.34551495016611\n",
      "mean rank of positive examples in intersection 26.63594470046083\n",
      "mean rank of negative examples in general 51.47145725021877\n",
      "mean rank of positive examples in general 22.447300771208226\n",
      "INTERPRETATION: Slightly worse performance of classifier on positive data from intersection, but similar\n"
     ]
    }
   ],
   "source": [
    "overlapping_ids = list(a.intersection(b))\n",
    "neg_inter = data_neg[data_neg[\"id\"].isin(overlapping_ids)]\n",
    "pos_inter = data_gt[data_gt[\"id\"].isin(overlapping_ids)]\n",
    "print(len(neg_inter))\n",
    "print(len(pos_inter)) # 217 because can happen that one question is ground truth two times\n",
    "\n",
    "print(\"mean rank of negative examples in intersection\", np.mean(neg_inter[\"rank\"].values))\n",
    "print(\"mean rank of positive examples in intersection\", np.mean(pos_inter[\"rank\"].values))\n",
    "print(\"mean rank of negative examples in general\", np.mean(data_neg[\"rank\"].values))\n",
    "print(\"mean rank of positive examples in general\", np.mean(data_gt[\"rank\"].values))\n",
    "\n",
    "print(\"INTERPRETATION: Slightly worse performance of classifier on positive data from intersection, but similar\")"
   ]
  },
  {
   "cell_type": "markdown",
   "metadata": {},
   "source": [
    "### Filter the overlapping ones out to make sure that the accepted answer thing is not due to that"
   ]
  },
  {
   "cell_type": "code",
   "execution_count": 146,
   "metadata": {},
   "outputs": [
    {
     "name": "stdout",
     "output_type": "stream",
     "text": [
      "624\n",
      "612\n",
      "12137\n",
      "11934\n"
     ]
    }
   ],
   "source": [
    "print(len(low_rank_ids))\n",
    "low = [l for l in low_rank_ids if l not in overlapping_ids]\n",
    "print(len(low))\n",
    "print(len(high_rank_ids))\n",
    "high = [l for l in high_rank_ids if l not in overlapping_ids]\n",
    "print(len(high))\n",
    "high_rank_ids = high\n",
    "low_rank_ids = low"
   ]
  },
  {
   "cell_type": "markdown",
   "metadata": {},
   "source": [
    "Exactly the same results --> appareantly the accepted answer issue is due to something else"
   ]
  },
  {
   "cell_type": "markdown",
   "metadata": {},
   "source": [
    "## Search for reason why often recommended questions have higher probability of being answered"
   ]
  },
  {
   "cell_type": "code",
   "execution_count": 178,
   "metadata": {},
   "outputs": [],
   "source": [
    "examples = pd.read_sql_query('''SELECT * FROM Posts LEFT JOIN (SELECT Id, Reputation FROM Users) b ON Posts.OwnerUserId=b.Id WHERE PostTypeId=1 AND Posts.Id>30000 AND Posts.ID<50000''', cnx)"
   ]
  },
  {
   "cell_type": "code",
   "execution_count": 179,
   "metadata": {},
   "outputs": [
    {
     "name": "stdout",
     "output_type": "stream",
     "text": [
      "number of examples 6283 number of examples without accepted answer 3670\n"
     ]
    }
   ],
   "source": [
    "acc = examples[\"acceptedanswerid\"].values\n",
    "print(\"number of examples\", len(acc), \"number of examples without accepted answer\", sum(np.isnan(acc)))\n",
    "\n",
    "without_acc = examples[pd.isnull(examples[\"acceptedanswerid\"])]\n",
    "with_acc = examples[examples[\"acceptedanswerid\"].notnull()]"
   ]
  },
  {
   "cell_type": "code",
   "execution_count": 181,
   "metadata": {},
   "outputs": [
    {
     "name": "stdout",
     "output_type": "stream",
     "text": [
      "845.9553026096613\n",
      "1551.6521739130435\n"
     ]
    }
   ],
   "source": [
    "print(np.nanmean(without_acc[\"reputation\"].values))\n",
    "print(np.nanmean(with_acc[\"reputation\"].values))"
   ]
  },
  {
   "cell_type": "markdown",
   "metadata": {},
   "source": [
    "### Interpretation: \n",
    "Maybe the model learns to predict if a question has an answer in the end or not. This seems to be correlated with asker reputation - with higher asker reputation it is more likely that the question will be answered.\n",
    "\n",
    "But: this might be causality the other way round: maybe the reputation is just higher because their questions where upvoted and answered."
   ]
  },
  {
   "cell_type": "markdown",
   "metadata": {},
   "source": [
    "## Train model on the task to predict whether the question was answered or not"
   ]
  },
  {
   "cell_type": "code",
   "execution_count": 70,
   "metadata": {},
   "outputs": [],
   "source": [
    "answered_questions = pd.read_sql_query('''SELECT Id, AcceptedAnswerId as label_acc FROM Posts ''', cnx)"
   ]
  },
  {
   "cell_type": "code",
   "execution_count": 71,
   "metadata": {},
   "outputs": [],
   "source": [
    "answered_questions = answered_questions.fillna(0)\n",
    "answered_questions[\"label_acc\"] = (answered_questions[\"label_acc\"]>0).astype(int)"
   ]
  },
  {
   "cell_type": "code",
   "execution_count": 72,
   "metadata": {
    "scrolled": true
   },
   "outputs": [
    {
     "data": {
      "text/html": [
       "<div>\n",
       "<style scoped>\n",
       "    .dataframe tbody tr th:only-of-type {\n",
       "        vertical-align: middle;\n",
       "    }\n",
       "\n",
       "    .dataframe tbody tr th {\n",
       "        vertical-align: top;\n",
       "    }\n",
       "\n",
       "    .dataframe thead th {\n",
       "        text-align: right;\n",
       "    }\n",
       "</style>\n",
       "<table border=\"1\" class=\"dataframe\">\n",
       "  <thead>\n",
       "    <tr style=\"text-align: right;\">\n",
       "      <th></th>\n",
       "      <th>id</th>\n",
       "      <th>label_acc</th>\n",
       "    </tr>\n",
       "  </thead>\n",
       "  <tbody>\n",
       "    <tr>\n",
       "      <th>0</th>\n",
       "      <td>1</td>\n",
       "      <td>1</td>\n",
       "    </tr>\n",
       "    <tr>\n",
       "      <th>1</th>\n",
       "      <td>2</td>\n",
       "      <td>1</td>\n",
       "    </tr>\n",
       "    <tr>\n",
       "      <th>2</th>\n",
       "      <td>3</td>\n",
       "      <td>1</td>\n",
       "    </tr>\n",
       "    <tr>\n",
       "      <th>3</th>\n",
       "      <td>4</td>\n",
       "      <td>1</td>\n",
       "    </tr>\n",
       "    <tr>\n",
       "      <th>4</th>\n",
       "      <td>5</td>\n",
       "      <td>0</td>\n",
       "    </tr>\n",
       "    <tr>\n",
       "      <th>5</th>\n",
       "      <td>6</td>\n",
       "      <td>0</td>\n",
       "    </tr>\n",
       "    <tr>\n",
       "      <th>6</th>\n",
       "      <td>7</td>\n",
       "      <td>1</td>\n",
       "    </tr>\n",
       "    <tr>\n",
       "      <th>7</th>\n",
       "      <td>8</td>\n",
       "      <td>0</td>\n",
       "    </tr>\n",
       "    <tr>\n",
       "      <th>8</th>\n",
       "      <td>9</td>\n",
       "      <td>0</td>\n",
       "    </tr>\n",
       "    <tr>\n",
       "      <th>9</th>\n",
       "      <td>10</td>\n",
       "      <td>1</td>\n",
       "    </tr>\n",
       "    <tr>\n",
       "      <th>10</th>\n",
       "      <td>11</td>\n",
       "      <td>1</td>\n",
       "    </tr>\n",
       "    <tr>\n",
       "      <th>11</th>\n",
       "      <td>12</td>\n",
       "      <td>0</td>\n",
       "    </tr>\n",
       "    <tr>\n",
       "      <th>12</th>\n",
       "      <td>13</td>\n",
       "      <td>0</td>\n",
       "    </tr>\n",
       "    <tr>\n",
       "      <th>13</th>\n",
       "      <td>2326</td>\n",
       "      <td>1</td>\n",
       "    </tr>\n",
       "    <tr>\n",
       "      <th>14</th>\n",
       "      <td>14</td>\n",
       "      <td>0</td>\n",
       "    </tr>\n",
       "    <tr>\n",
       "      <th>15</th>\n",
       "      <td>15</td>\n",
       "      <td>0</td>\n",
       "    </tr>\n",
       "    <tr>\n",
       "      <th>16</th>\n",
       "      <td>16</td>\n",
       "      <td>0</td>\n",
       "    </tr>\n",
       "    <tr>\n",
       "      <th>17</th>\n",
       "      <td>17</td>\n",
       "      <td>1</td>\n",
       "    </tr>\n",
       "    <tr>\n",
       "      <th>18</th>\n",
       "      <td>18</td>\n",
       "      <td>0</td>\n",
       "    </tr>\n",
       "    <tr>\n",
       "      <th>19</th>\n",
       "      <td>19</td>\n",
       "      <td>0</td>\n",
       "    </tr>\n",
       "  </tbody>\n",
       "</table>\n",
       "</div>"
      ],
      "text/plain": [
       "      id  label_acc\n",
       "0      1          1\n",
       "1      2          1\n",
       "2      3          1\n",
       "3      4          1\n",
       "4      5          0\n",
       "5      6          0\n",
       "6      7          1\n",
       "7      8          0\n",
       "8      9          0\n",
       "9     10          1\n",
       "10    11          1\n",
       "11    12          0\n",
       "12    13          0\n",
       "13  2326          1\n",
       "14    14          0\n",
       "15    15          0\n",
       "16    16          0\n",
       "17    17          1\n",
       "18    18          0\n",
       "19    19          0"
      ]
     },
     "execution_count": 72,
     "metadata": {},
     "output_type": "execute_result"
    }
   ],
   "source": [
    "answered_questions.head(20)"
   ]
  },
  {
   "cell_type": "code",
   "execution_count": 86,
   "metadata": {
    "scrolled": true
   },
   "outputs": [
    {
     "name": "stdout",
     "output_type": "stream",
     "text": [
      "192162\n",
      "2668\n"
     ]
    }
   ],
   "source": [
    "dataframes = []\n",
    "path = \"../Baselines/data/\"\n",
    "processed_already = [] # os.listdir(\"../Baselines/data_2015/\")\n",
    "for userfile in os.listdir(path):\n",
    "    if userfile in processed_already or userfile[0]==\".\":\n",
    "        continue\n",
    "    example = pd.read_csv(path+userfile)\n",
    "    example = example[['id', 'topic_reputation_asker', 'num_words', 'num_hyperlinks', 'GunningFogIndex', 'LIX', 'cumulative_term_entropy', 'number_posts_asker', 'num_questions_asker', 'number_answers_asker', 'accepted_answers_asker', 'question_reputation_asker', 'answer_reputation_asker', 'num_solved_questions_asker']]\n",
    "    with_labels = pd.merge(example, answered_questions, how=\"left\")\n",
    "    dataframes.append(with_labels)\n",
    "    \n",
    "final = pd.concat(dataframes)\n",
    "print(len(final))\n",
    "final.drop_duplicates(subset=\"id\", keep=False, inplace=True)\n",
    "print(len(final))\n",
    "final.head(20)\n",
    "final.to_csv(\"data_acc_answer_TRAIN.csv\", index=False)"
   ]
  },
  {
   "cell_type": "code",
   "execution_count": 75,
   "metadata": {},
   "outputs": [],
   "source": [
    "from sklearn.utils import shuffle\n",
    "from sklearn.ensemble import RandomForestClassifier\n",
    "from sklearn.metrics import balanced_accuracy_score"
   ]
  },
  {
   "cell_type": "code",
   "execution_count": 82,
   "metadata": {},
   "outputs": [],
   "source": [
    "df_train = pd.read_csv(\"data_acc_answer_TRAIN.csv\")\n",
    "df_test = pd.read_csv(\"data_acc_answer_TEST.csv\")"
   ]
  },
  {
   "cell_type": "code",
   "execution_count": 84,
   "metadata": {},
   "outputs": [
    {
     "name": "stdout",
     "output_type": "stream",
     "text": [
      "Size of training set:  2668  Test set: 3206\n",
      "Class imbalance: 1: 0.1836734693877551\n",
      "------------\n",
      "PARAMS: 50 5 100\n",
      "Features sorted by their importance for prediction:\n",
      "['topic_reputation_asker' 'num_hyperlinks' 'accepted_answers_asker'\n",
      " 'num_questions_user' 'answer_reputation_asker' 'question_reputation_user'\n",
      " 'number_answers_asker' 'topic_reputation_user'\n",
      " 'num_solved_questions_user' 'label' 'accepted_answers_user'\n",
      " 'topic_affinity_user' 'number_answers_user' 'number_posts_user'\n",
      " 'answer_reputation_user' 'num_words' 'LIX' 'reputation_user'\n",
      " 'num_questions_asker' 'GunningFogIndex' 'cumulative_term_entropy'\n",
      " 'number_posts_asker' 'decision_time' 'question_reputation_asker'\n",
      " 'num_solved_questions_asker' 'reputation_asker' 'questionage']\n",
      "train score 1.0\n",
      "test score 0.6600124766063631\n",
      "balanced accuracy test 0.6647941573368957\n"
     ]
    }
   ],
   "source": [
    "X_train = df_train.drop(['label_acc', 'id'], axis=1)\n",
    "features = X_train.columns.tolist()\n",
    "X_train = np.asarray(X_train)\n",
    "Y_train = df_train['label_acc'].values\n",
    "\n",
    "# Prepare testing set\n",
    "X_test = df_test.drop(['label_acc', 'id'], axis=1)\n",
    "X_test = np.asarray(X_test)\n",
    "Y_test = df_test['label_acc'].values\n",
    "assert(len(X_train)==len(Y_train))\n",
    "\n",
    "print(\"Size of training set: \", len(Y_train), \" Test set:\", len(Y_test))\n",
    "class_counts = np.unique(Y_train, return_counts=True)[1]\n",
    "print(\"Class imbalance: 1:\", class_counts[0]/float(class_counts[1]))\n",
    "\n",
    "# for depth in [20,40,80,120]:\n",
    "#     for weight in [20,40]:\n",
    "#         for n_estimators in [30,60,100]:\n",
    "n_estimators=100\n",
    "depth=50\n",
    "weight=5\n",
    "print(\"------------\")\n",
    "print(\"PARAMS:\", depth, weight, n_estimators)\n",
    "# Train RF\n",
    "X_train, Y_train = shuffle(X_train, Y_train)\n",
    "clf = RandomForestClassifier(n_estimators=n_estimators, max_depth=depth, class_weight={0:1, 1:weight})\n",
    "clf.fit(X_train,Y_train)\n",
    "\n",
    "# investigate features\n",
    "sorted_importance = np.argsort(clf.feature_importances_)\n",
    "print(\"Features sorted by their importance for prediction:\")\n",
    "print(np.asarray(features)[sorted_importance])\n",
    "\n",
    "print(\"train score\", clf.score(X_train, Y_train))\n",
    "\n",
    "print(\"test score\", clf.score(X_test, Y_test))\n",
    "out = clf.predict(X_test)\n",
    "print(\"balanced accuracy test\", balanced_accuracy_score(Y_test, out))"
   ]
  },
  {
   "cell_type": "markdown",
   "metadata": {},
   "source": [
    "# improve readibility scores etc"
   ]
  },
  {
   "cell_type": "code",
   "execution_count": 24,
   "metadata": {},
   "outputs": [],
   "source": [
    "import re\n",
    "import readability"
   ]
  },
  {
   "cell_type": "code",
   "execution_count": 27,
   "metadata": {},
   "outputs": [],
   "source": [
    "question_bodies = pd.read_sql_query('''SELECT Id, body FROM Posts WHERE PostTypeId=1''', cnx)"
   ]
  },
  {
   "cell_type": "code",
   "execution_count": 25,
   "metadata": {},
   "outputs": [],
   "source": [
    "def cumulative_term_entropy(text):\n",
    "    \"\"\"\n",
    "    Computes cumulative term entropy of a question body as specified in\n",
    "    section 3.3.2 in the paper\n",
    "    \"\"\"\n",
    "    for bad_words in [\".\", \"<\", \">\", \"/\", \"\\n\", \"?p\", \"'\", \"(\", \")\"]:\n",
    "        text = text.replace(bad_words, \"\")\n",
    "    text_list = text.lower().split(\" \")\n",
    "    word_list, word_count = np.unique(text_list, return_counts=True)\n",
    "    num_words = len(word_list)\n",
    "    cte = word_count * (np.log(num_words) - np.log(word_count))/num_words\n",
    "    return sum(cte)"
   ]
  },
  {
   "cell_type": "code",
   "execution_count": 29,
   "metadata": {
    "scrolled": true
   },
   "outputs": [],
   "source": [
    "path = \"../Baselines/data_2016_old_readability/\"\n",
    "path_out = \"../Baselines/data_2016/\"\n",
    "processed_already = os.listdir(path_out)\n",
    "for userfile in os.listdir(path):\n",
    "    if userfile in processed_already or userfile[0]==\".\":\n",
    "        continue\n",
    "    example = pd.read_csv(path+userfile)\n",
    "    question = pd.merge(example, question_bodies, how=\"left\", on=\"id\")\n",
    "    question[\"body\"] = question[\"body\"].str.replace(re.compile(r'<.*?>'), '')\n",
    "    question[\"body\"] = question[\"body\"].str.replace(re.compile(r'(\\d[\\.]?)+'), '#N')\n",
    "    question[\"body\"] = question[\"body\"].str.replace(re.compile(r'\\$.*?\\$'), '#M')\n",
    "    question[\"num_words\"] = question[\"body\"].str.count(' ') + 1\n",
    "    readability_measures = question[\"body\"].apply(lambda x: readability.getmeasures(x, lang='en')['readability grades'])\n",
    "    question[\"GunningFogIndex\"] = readability_measures.apply(lambda x: x['GunningFogIndex'])\n",
    "    question[\"LIX\"] = readability_measures.apply(lambda x: x['LIX'])\n",
    "    question[\"cumulative_term_entropy\"] = question[\"body\"].apply(lambda x: cumulative_term_entropy(x))\n",
    "    question = question.drop([\"body\"], axis=1)\n",
    "    question.to_csv(path_out+userfile, index=False)"
   ]
  },
  {
   "cell_type": "code",
   "execution_count": null,
   "metadata": {},
   "outputs": [],
   "source": [
    "reputation = pd.read_sql_query('''SELECT OwnerUserId, sum(upvotes) FROM Posts WHERE PostTypeId=1 GROUP BY OwnerUserId''', cnx)"
   ]
  },
  {
   "cell_type": "code",
   "execution_count": null,
   "metadata": {},
   "outputs": [],
   "source": [
    "reputation = pd.read_sql_query('''SELECT * FROM , sum(upvotes) FROM Posts WHERE PostTypeId=1 GROUP BY OwnerUserId''', cnx)"
   ]
  }
 ],
 "metadata": {
  "kernelspec": {
   "display_name": "Python 3",
   "language": "python",
   "name": "python3"
  },
  "language_info": {
   "codemirror_mode": {
    "name": "ipython",
    "version": 3
   },
   "file_extension": ".py",
   "mimetype": "text/x-python",
   "name": "python",
   "nbconvert_exporter": "python",
   "pygments_lexer": "ipython3",
   "version": "3.6.8"
  }
 },
 "nbformat": 4,
 "nbformat_minor": 2
}
