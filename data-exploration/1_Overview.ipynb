{
 "cells": [
  {
   "cell_type": "code",
   "execution_count": 31,
   "metadata": {},
   "outputs": [],
   "source": [
    "import numpy as np\n",
    "import pandas as pd\n",
    "import psycopg2\n",
    "import sqlalchemy\n",
    "import matplotlib.pyplot as plt\n",
    "import seaborn as sns\n",
    "sns.set()\n",
    "\n",
    "%matplotlib inline"
   ]
  },
  {
   "cell_type": "code",
   "execution_count": 32,
   "metadata": {},
   "outputs": [],
   "source": [
    "from sqlalchemy import create_engine\n",
    "\n",
    "postgres_str = ('postgresql://localhost/crossvalidated')\n",
    "cnx = create_engine(postgres_str)"
   ]
  },
  {
   "cell_type": "code",
   "execution_count": 33,
   "metadata": {},
   "outputs": [
    {
     "data": {
      "text/html": [
       "<div>\n",
       "<style scoped>\n",
       "    .dataframe tbody tr th:only-of-type {\n",
       "        vertical-align: middle;\n",
       "    }\n",
       "\n",
       "    .dataframe tbody tr th {\n",
       "        vertical-align: top;\n",
       "    }\n",
       "\n",
       "    .dataframe thead th {\n",
       "        text-align: right;\n",
       "    }\n",
       "</style>\n",
       "<table border=\"1\" class=\"dataframe\">\n",
       "  <thead>\n",
       "    <tr style=\"text-align: right;\">\n",
       "      <th></th>\n",
       "      <th>id</th>\n",
       "      <th>posttypeid</th>\n",
       "      <th>acceptedanswerid</th>\n",
       "      <th>parentid</th>\n",
       "      <th>creationdate</th>\n",
       "      <th>score</th>\n",
       "      <th>viewcount</th>\n",
       "      <th>body</th>\n",
       "      <th>owneruserid</th>\n",
       "      <th>lasteditoruserid</th>\n",
       "      <th>...</th>\n",
       "      <th>lasteditdate</th>\n",
       "      <th>lastactivitydate</th>\n",
       "      <th>title</th>\n",
       "      <th>tags</th>\n",
       "      <th>answercount</th>\n",
       "      <th>commentcount</th>\n",
       "      <th>favoritecount</th>\n",
       "      <th>closeddate</th>\n",
       "      <th>communityowneddate</th>\n",
       "      <th>jsonfield</th>\n",
       "    </tr>\n",
       "  </thead>\n",
       "  <tbody>\n",
       "    <tr>\n",
       "      <th>0</th>\n",
       "      <td>1</td>\n",
       "      <td>1</td>\n",
       "      <td>15.0</td>\n",
       "      <td>NaN</td>\n",
       "      <td>2010-07-19 19:12:12.510</td>\n",
       "      <td>42</td>\n",
       "      <td>3654.0</td>\n",
       "      <td>&lt;p&gt;How should I elicit prior distributions fro...</td>\n",
       "      <td>8</td>\n",
       "      <td>NaN</td>\n",
       "      <td>...</td>\n",
       "      <td>NaT</td>\n",
       "      <td>2018-12-29 18:42:01.680</td>\n",
       "      <td>Eliciting priors from experts</td>\n",
       "      <td>&lt;bayesian&gt;&lt;prior&gt;&lt;elicitation&gt;</td>\n",
       "      <td>5.0</td>\n",
       "      <td>1</td>\n",
       "      <td>29.0</td>\n",
       "      <td>None</td>\n",
       "      <td>NaT</td>\n",
       "      <td>None</td>\n",
       "    </tr>\n",
       "    <tr>\n",
       "      <th>1</th>\n",
       "      <td>2</td>\n",
       "      <td>1</td>\n",
       "      <td>59.0</td>\n",
       "      <td>NaN</td>\n",
       "      <td>2010-07-19 19:12:57.157</td>\n",
       "      <td>31</td>\n",
       "      <td>30036.0</td>\n",
       "      <td>&lt;p&gt;In many different statistical methods there...</td>\n",
       "      <td>24</td>\n",
       "      <td>NaN</td>\n",
       "      <td>...</td>\n",
       "      <td>2010-08-07 17:56:44.800</td>\n",
       "      <td>2017-11-22 12:15:07.030</td>\n",
       "      <td>What is normality?</td>\n",
       "      <td>&lt;distributions&gt;&lt;normality-assumption&gt;</td>\n",
       "      <td>7.0</td>\n",
       "      <td>1</td>\n",
       "      <td>11.0</td>\n",
       "      <td>None</td>\n",
       "      <td>NaT</td>\n",
       "      <td>None</td>\n",
       "    </tr>\n",
       "    <tr>\n",
       "      <th>2</th>\n",
       "      <td>3</td>\n",
       "      <td>1</td>\n",
       "      <td>5.0</td>\n",
       "      <td>NaN</td>\n",
       "      <td>2010-07-19 19:13:28.577</td>\n",
       "      <td>69</td>\n",
       "      <td>6221.0</td>\n",
       "      <td>&lt;p&gt;What are some valuable Statistical Analysis...</td>\n",
       "      <td>18</td>\n",
       "      <td>183.0</td>\n",
       "      <td>...</td>\n",
       "      <td>2011-02-12 05:50:03.667</td>\n",
       "      <td>2013-05-27 14:48:36.927</td>\n",
       "      <td>What are some valuable Statistical Analysis op...</td>\n",
       "      <td>&lt;software&gt;&lt;open-source&gt;</td>\n",
       "      <td>19.0</td>\n",
       "      <td>3</td>\n",
       "      <td>40.0</td>\n",
       "      <td>None</td>\n",
       "      <td>2010-07-19 19:13:28.577</td>\n",
       "      <td>None</td>\n",
       "    </tr>\n",
       "    <tr>\n",
       "      <th>3</th>\n",
       "      <td>4</td>\n",
       "      <td>1</td>\n",
       "      <td>135.0</td>\n",
       "      <td>NaN</td>\n",
       "      <td>2010-07-19 19:13:31.617</td>\n",
       "      <td>21</td>\n",
       "      <td>35577.0</td>\n",
       "      <td>&lt;p&gt;I have two groups of data.  Each with a dif...</td>\n",
       "      <td>23</td>\n",
       "      <td>NaN</td>\n",
       "      <td>...</td>\n",
       "      <td>NaT</td>\n",
       "      <td>2010-09-08 03:00:19.690</td>\n",
       "      <td>Assessing the significance of differences in d...</td>\n",
       "      <td>&lt;distributions&gt;&lt;statistical-significance&gt;</td>\n",
       "      <td>5.0</td>\n",
       "      <td>2</td>\n",
       "      <td>11.0</td>\n",
       "      <td>None</td>\n",
       "      <td>NaT</td>\n",
       "      <td>None</td>\n",
       "    </tr>\n",
       "    <tr>\n",
       "      <th>4</th>\n",
       "      <td>5</td>\n",
       "      <td>2</td>\n",
       "      <td>NaN</td>\n",
       "      <td>3.0</td>\n",
       "      <td>2010-07-19 19:14:43.050</td>\n",
       "      <td>88</td>\n",
       "      <td>NaN</td>\n",
       "      <td>&lt;p&gt;The R-project&lt;/p&gt;\\n\\n&lt;p&gt;&lt;a href=\"http://www...</td>\n",
       "      <td>23</td>\n",
       "      <td>23.0</td>\n",
       "      <td>...</td>\n",
       "      <td>2010-07-19 19:21:15.063</td>\n",
       "      <td>2010-07-19 19:21:15.063</td>\n",
       "      <td>None</td>\n",
       "      <td>None</td>\n",
       "      <td>NaN</td>\n",
       "      <td>3</td>\n",
       "      <td>NaN</td>\n",
       "      <td>None</td>\n",
       "      <td>2010-07-19 19:14:43.050</td>\n",
       "      <td>None</td>\n",
       "    </tr>\n",
       "  </tbody>\n",
       "</table>\n",
       "<p>5 rows × 21 columns</p>\n",
       "</div>"
      ],
      "text/plain": [
       "   id  posttypeid  acceptedanswerid  parentid            creationdate  score  \\\n",
       "0   1           1              15.0       NaN 2010-07-19 19:12:12.510     42   \n",
       "1   2           1              59.0       NaN 2010-07-19 19:12:57.157     31   \n",
       "2   3           1               5.0       NaN 2010-07-19 19:13:28.577     69   \n",
       "3   4           1             135.0       NaN 2010-07-19 19:13:31.617     21   \n",
       "4   5           2               NaN       3.0 2010-07-19 19:14:43.050     88   \n",
       "\n",
       "   viewcount                                               body  owneruserid  \\\n",
       "0     3654.0  <p>How should I elicit prior distributions fro...            8   \n",
       "1    30036.0  <p>In many different statistical methods there...           24   \n",
       "2     6221.0  <p>What are some valuable Statistical Analysis...           18   \n",
       "3    35577.0  <p>I have two groups of data.  Each with a dif...           23   \n",
       "4        NaN  <p>The R-project</p>\\n\\n<p><a href=\"http://www...           23   \n",
       "\n",
       "   lasteditoruserid    ...               lasteditdate        lastactivitydate  \\\n",
       "0               NaN    ...                        NaT 2018-12-29 18:42:01.680   \n",
       "1               NaN    ...    2010-08-07 17:56:44.800 2017-11-22 12:15:07.030   \n",
       "2             183.0    ...    2011-02-12 05:50:03.667 2013-05-27 14:48:36.927   \n",
       "3               NaN    ...                        NaT 2010-09-08 03:00:19.690   \n",
       "4              23.0    ...    2010-07-19 19:21:15.063 2010-07-19 19:21:15.063   \n",
       "\n",
       "                                               title  \\\n",
       "0                      Eliciting priors from experts   \n",
       "1                                 What is normality?   \n",
       "2  What are some valuable Statistical Analysis op...   \n",
       "3  Assessing the significance of differences in d...   \n",
       "4                                               None   \n",
       "\n",
       "                                        tags answercount  commentcount  \\\n",
       "0             <bayesian><prior><elicitation>         5.0             1   \n",
       "1      <distributions><normality-assumption>         7.0             1   \n",
       "2                    <software><open-source>        19.0             3   \n",
       "3  <distributions><statistical-significance>         5.0             2   \n",
       "4                                       None         NaN             3   \n",
       "\n",
       "   favoritecount  closeddate      communityowneddate jsonfield  \n",
       "0           29.0        None                     NaT      None  \n",
       "1           11.0        None                     NaT      None  \n",
       "2           40.0        None 2010-07-19 19:13:28.577      None  \n",
       "3           11.0        None                     NaT      None  \n",
       "4            NaN        None 2010-07-19 19:14:43.050      None  \n",
       "\n",
       "[5 rows x 21 columns]"
      ]
     },
     "execution_count": 33,
     "metadata": {},
     "output_type": "execute_result"
    }
   ],
   "source": [
    "pd.read_sql_query('''SELECT * FROM Posts LIMIT 5;''', cnx)"
   ]
  },
  {
   "cell_type": "markdown",
   "metadata": {},
   "source": [
    "**Various measures**"
   ]
  },
  {
   "cell_type": "code",
   "execution_count": 42,
   "metadata": {},
   "outputs": [
    {
     "data": {
      "image/png": "[encoded data removed]",
      "text/plain": [
       "<Figure size 432x288 with 1 Axes>"
      ]
     },
     "metadata": {
      "needs_background": "light"
     },
     "output_type": "display_data"
    }
   ],
   "source": [
    "posts_per_year = pd.read_sql_query(\n",
    "                    '''SELECT CAST(date_part('year', CreationDate) AS INTEGER) AS Year, COUNT(*) AS Post_n\n",
    "                    FROM Posts\n",
    "                    GROUP BY date_part('year', CreationDate);''', cnx)\n",
    "sns.lineplot(x=posts_per_year['year'], y=posts_per_year['post_n']).set_title('Posts per year')\n",
    "plt.show()"
   ]
  },
  {
   "cell_type": "code",
   "execution_count": 43,
   "metadata": {},
   "outputs": [
    {
     "data": {
      "image/png": "[encoded data removed]",
      "text/plain": [
       "<Figure size 432x288 with 1 Axes>"
      ]
     },
     "metadata": {
      "needs_background": "light"
     },
     "output_type": "display_data"
    }
   ],
   "source": [
    "questions_per_year = pd.read_sql_query(\n",
    "                    '''SELECT CAST(date_part('year', CreationDate) AS INTEGER) AS Year, COUNT(*) AS qst_n\n",
    "                    FROM Posts\n",
    "                    WHERE ParentId IS NULL\n",
    "                    GROUP BY date_part('year', CreationDate);''', cnx)\n",
    "sns.lineplot(x=questions_per_year['year'], y=questions_per_year['qst_n']).set_title('Questions per year')\n",
    "plt.show()"
   ]
  },
  {
   "cell_type": "code",
   "execution_count": 44,
   "metadata": {},
   "outputs": [
    {
     "data": {
      "image/png": "[encoded data removed]",
      "text/plain": [
       "<Figure size 432x288 with 1 Axes>"
      ]
     },
     "metadata": {
      "needs_background": "light"
     },
     "output_type": "display_data"
    }
   ],
   "source": [
    "newusers_per_year = pd.read_sql_query(\n",
    "                    '''SELECT CAST(date_part('year', CreationDate) AS INTEGER) AS Year, COUNT(*) AS User_n\n",
    "                    FROM Users\n",
    "                    GROUP BY date_part('year', CreationDate);''', cnx)\n",
    "sns.lineplot(x=newusers_per_year['year'], y=newusers_per_year['user_n']).set_title('New users per year')\n",
    "plt.show()"
   ]
  },
  {
   "cell_type": "code",
   "execution_count": 52,
   "metadata": {},
   "outputs": [
    {
     "data": {
      "image/png": "[encoded data removed]",
      "text/plain": [
       "<Figure size 432x288 with 1 Axes>"
      ]
     },
     "metadata": {
      "needs_background": "light"
     },
     "output_type": "display_data"
    }
   ],
   "source": [
    "avg_ans_per_year = pd.read_sql_query(\n",
    "        '''SELECT Year, AVG(c_answers) AS Avg_answers FROM (\n",
    "        SELECT Q.Id, CAST(date_part('year', Q.CreationDate) AS INTEGER) AS Year, COUNT(*) AS c_answers\n",
    "        FROM Posts AS Q JOIN Posts AS Ans ON Q.Id=Ans.ParentId\n",
    "        GROUP BY Q.Id) AS anstable\n",
    "        GROUP BY Year\n",
    "        ORDER BY Year ASC;''', cnx)\n",
    "sns.lineplot(x=avg_ans_per_year['year'], y=avg_ans_per_year['avg_answers']).set_title('Average number of answers to a question per year')\n",
    "plt.show()"
   ]
  }
 ],
 "metadata": {
  "kernelspec": {
   "display_name": "Python 3",
   "language": "python",
   "name": "python3"
  },
  "language_info": {
   "codemirror_mode": {
    "name": "ipython",
    "version": 3
   },
   "file_extension": ".py",
   "mimetype": "text/x-python",
   "name": "python",
   "nbconvert_exporter": "python",
   "pygments_lexer": "ipython3",
   "version": "3.6.8"
  }
 },
 "nbformat": 4,
 "nbformat_minor": 2
}
